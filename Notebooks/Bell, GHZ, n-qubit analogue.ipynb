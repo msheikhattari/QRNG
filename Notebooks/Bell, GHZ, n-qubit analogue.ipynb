{
 "cells": [
  {
   "cell_type": "code",
   "execution_count": 31,
   "metadata": {},
   "outputs": [],
   "source": [
    "ionq_token=\"LAYq6EwdvXqh4sIma2iKZNQ2l7KzbxX6\"\n",
    "from qiskit_ionq import IonQProvider\n",
    "from qiskit import QuantumCircuit\n",
    "provider = IonQProvider(ionq_token)\n",
    "backend_sim = provider.get_backend(\"ionq_simulator\")\n",
    "backend_qpu = provider.get_backend(\"ionq_qpu\")"
   ]
  },
  {
   "cell_type": "code",
   "execution_count": 44,
   "metadata": {},
   "outputs": [],
   "source": [
    "#n_qubit analogue of bell/ghz state\n",
    "def n_qubit(qubits, shots_needed):\n",
    "    qc = QuantumCircuit(qubits, qubits)\n",
    "    qc.h(0)\n",
    "    arr = [0]\n",
    "    \n",
    "    for i in range(qubits - 1):\n",
    "        qc.cx(i, i + 1)\n",
    "        arr.append(i + 1)\n",
    "           \n",
    "    qc.measure(arr,arr) \n",
    "    \n",
    "    #Run circuit and get counts\n",
    "    qpu_job = backend_qpu.run(qc, shots = shots_needed)\n",
    "    counts = qpu_job.get_counts()\n",
    "    print(counts)"
   ]
  },
  {
   "cell_type": "code",
   "execution_count": 45,
   "metadata": {},
   "outputs": [
    {
     "name": "stdout",
     "output_type": "stream",
     "text": [
      "{'00': 4955, '01': 70, '10': 79, '11': 4896}\n"
     ]
    }
   ],
   "source": [
    "#10,000 shots of Bell measurement\n",
    "n_qubit(2, 10000)"
   ]
  },
  {
   "cell_type": "code",
   "execution_count": 46,
   "metadata": {},
   "outputs": [
    {
     "name": "stdout",
     "output_type": "stream",
     "text": [
      "{'000': 4907, '001': 46, '010': 16, '011': 40, '100': 26, '101': 24, '110': 59, '111': 4882}\n"
     ]
    }
   ],
   "source": [
    "#10,000 shots of GHZ measurement\n",
    "n_qubit(3, 10000)"
   ]
  },
  {
   "cell_type": "code",
   "execution_count": 47,
   "metadata": {},
   "outputs": [
    {
     "name": "stdout",
     "output_type": "stream",
     "text": [
      "{'0000': 4662, '0001': 88, '0010': 21, '0011': 116, '0100': 30, '0101': 10, '0110': 1, '0111': 111, '1000': 80, '1010': 7, '1011': 42, '1100': 119, '1101': 33, '1110': 94, '1111': 4586}\n"
     ]
    }
   ],
   "source": [
    "#10,000 shots of 4-qubit analogue measurement\n",
    "n_qubit(4, 10000)"
   ]
  },
  {
   "cell_type": "code",
   "execution_count": 48,
   "metadata": {},
   "outputs": [
    {
     "name": "stdout",
     "output_type": "stream",
     "text": [
      "{'00000': 4708, '00001': 56, '00010': 8, '00011': 21, '00100': 7, '00101': 1, '00111': 86, '01000': 10, '01011': 1, '01110': 3, '01111': 68, '10000': 58, '10111': 22, '11000': 90, '11001': 2, '11011': 37, '11100': 31, '11101': 31, '11110': 59, '11111': 4701}\n"
     ]
    }
   ],
   "source": [
    "#10,000 shots of 5-qubit analogue measurement\n",
    "n_qubit(5, 10000)"
   ]
  },
  {
   "cell_type": "code",
   "execution_count": 52,
   "metadata": {},
   "outputs": [
    {
     "name": "stdout",
     "output_type": "stream",
     "text": [
      "Error Rate for Bell:  0.0149\n",
      "Error Rate for GHZ:  0.0211\n",
      "Error Rate for 4 qubit:  0.0752\n",
      "Error Rate for 5 qubit:  0.0591\n"
     ]
    }
   ],
   "source": [
    "print(\"Error Rate for Bell: \", (10000 - 4955 - 4896)/10000)\n",
    "print(\"Error Rate for GHZ: \",(10000 - 4907 - 4882)/10000)\n",
    "print(\"Error Rate for 4 qubit: \",(10000 - 4662 - 4586)/10000)\n",
    "print(\"Error Rate for 5 qubit: \",(10000 - 4708 - 4701)/10000)"
   ]
  },
  {
   "cell_type": "code",
   "execution_count": null,
   "metadata": {},
   "outputs": [],
   "source": []
  }
 ],
 "metadata": {
  "kernelspec": {
   "display_name": "Python 3 (ipykernel)",
   "language": "python",
   "name": "python3"
  },
  "language_info": {
   "codemirror_mode": {
    "name": "ipython",
    "version": 3
   },
   "file_extension": ".py",
   "mimetype": "text/x-python",
   "name": "python",
   "nbconvert_exporter": "python",
   "pygments_lexer": "ipython3",
   "version": "3.10.6"
  }
 },
 "nbformat": 4,
 "nbformat_minor": 4
}
