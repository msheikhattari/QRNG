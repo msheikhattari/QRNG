{
 "cells": [
  {
   "cell_type": "code",
   "execution_count": 1,
   "metadata": {},
   "outputs": [
    {
     "name": "stdout",
     "output_type": "stream",
     "text": [
      "[<IonQSimulatorBackend('ionq_simulator')>, <IonQQPUBackend('ionq_qpu')>]\n"
     ]
    }
   ],
   "source": [
    "import os\n",
    "ionq_token='WAPGr9HuaoeCAZzrx8njY21gFsJRg7Mc'\n",
    "from qiskit_ionq import IonQProvider\n",
    "provider = IonQProvider(ionq_token)\n",
    "\n",
    "# show supported backends\n",
    "print(provider.backends()) \n",
    "\n",
    "# create backends for simulator and hardware\n",
    "backend_simq = provider.get_backend(\"ionq_simulator\")\n",
    "backend_qpu = provider.get_backend(\"ionq_qpu\")"
   ]
  },
  {
   "cell_type": "code",
   "execution_count": 2,
   "metadata": {},
   "outputs": [],
   "source": [
    "# Import general libraries (needed for functions)\n",
    "import numpy as np\n",
    "import matplotlib.pyplot as plt\n",
    "from IPython import display\n",
    "from qiskit_experiments.framework import ParallelExperiment, BatchExperiment\n",
    "import qiskit.circuit.library as circuits\n",
    "from qiskit.utils.quantum_instance import QuantumInstance\n",
    "from qiskit import Aer, QuantumRegister, ClassicalRegister, QuantumCircuit, transpile, assemble"
   ]
  },
  {
   "cell_type": "code",
   "execution_count": 3,
   "metadata": {},
   "outputs": [],
   "source": [
    "from sklearn.preprocessing import normalize\n",
    "from qiskit.visualization import array_to_latex"
   ]
  },
  {
   "cell_type": "code",
   "execution_count": 4,
   "metadata": {},
   "outputs": [],
   "source": [
    "backend = backend_qpu"
   ]
  },
  {
   "cell_type": "code",
   "execution_count": 5,
   "metadata": {},
   "outputs": [],
   "source": [
    "backend_aer = Aer.get_backend('qasm_simulator')  "
   ]
  },
  {
   "cell_type": "code",
   "execution_count": 6,
   "metadata": {},
   "outputs": [
    {
     "name": "stdout",
     "output_type": "stream",
     "text": [
      "     \n",
      "q_0: \n",
      "     \n",
      "q_1: \n",
      "     \n",
      "q_2: \n",
      "     \n",
      "     ┌───┐\n",
      "q_0: ┤ X ├\n",
      "     └───┘\n",
      "q_1: ─────\n",
      "          \n",
      "q_2: ─────\n",
      "          \n",
      "          \n",
      "q_0: ─────\n",
      "     ┌───┐\n",
      "q_1: ┤ X ├\n",
      "     └───┘\n",
      "q_2: ─────\n",
      "          \n",
      "     ┌───┐\n",
      "q_0: ┤ X ├\n",
      "     ├───┤\n",
      "q_1: ┤ X ├\n",
      "     └───┘\n",
      "q_2: ─────\n",
      "          \n",
      "          \n",
      "q_0: ─────\n",
      "          \n",
      "q_1: ─────\n",
      "     ┌───┐\n",
      "q_2: ┤ X ├\n",
      "     └───┘\n",
      "     ┌───┐\n",
      "q_0: ┤ X ├\n",
      "     └───┘\n",
      "q_1: ─────\n",
      "     ┌───┐\n",
      "q_2: ┤ X ├\n",
      "     └───┘\n",
      "          \n",
      "q_0: ─────\n",
      "     ┌───┐\n",
      "q_1: ┤ X ├\n",
      "     ├───┤\n",
      "q_2: ┤ X ├\n",
      "     └───┘\n",
      "     ┌───┐\n",
      "q_0: ┤ X ├\n",
      "     ├───┤\n",
      "q_1: ┤ X ├\n",
      "     ├───┤\n",
      "q_2: ┤ X ├\n",
      "     └───┘\n"
     ]
    }
   ],
   "source": [
    "# gen_calib_circs: returns a list of all 2^n calibration circuits\n",
    "# params: qn: # of qubits\n",
    "\n",
    "def gen_calib_circs(qn):\n",
    "    qc = QuantumCircuit(qn)\n",
    "    circ_list = []\n",
    "    build_circ(qn, qc, circ_list)\n",
    "    return circ_list\n",
    "\n",
    "# build_circ: builds the circuits for gen_calib_circs\n",
    "# IMPORTANT NOTE: THIS DOES NOT MEASURE ALL BY DEFAULT\n",
    "def build_circ(i, qc, circ_list):\n",
    "    if i > 0:\n",
    "        build_circ(i-1, qc.copy(), circ_list)\n",
    "        qc.x(i - 1)\n",
    "        build_circ(i-1, qc, circ_list)\n",
    "    else:\n",
    "        circ_list.append(qc)\n",
    "        \n",
    "for i in range(8):\n",
    "        print(gen_calib_circs(3)[i].draw())\n",
    "    \n",
    "        "
   ]
  },
  {
   "cell_type": "code",
   "execution_count": null,
   "metadata": {},
   "outputs": [],
   "source": [
    "qn = 3\n",
    "qcs = gen_calib_circs(qn)\n",
    "SHOTS = 4096\n",
    "cal_results = [0] * (2 ** qn)\n",
    "for i in range(2**(qn)):\n",
    "    # In IonQ, circuits without any gates can only have a maximum of\n",
    "    # 1000 shots. Anything more returns an error. This reduces accuracy\n",
    "    # for the calib matrix entry A_00, but that will always be \n",
    "    # very nearly 1.0, because any noise is entirely background noise\n",
    "    # rather than noise introduced by gates and dephasing.\n",
    "    if i == 0:\n",
    "        cal_results[i] = backend_qpu.run(qcs[i], shots=1000).result()\n",
    "    else:\n",
    "        cal_results[i] = backend_qpu.run(qcs[i], shots=4096).result()"
   ]
  },
  {
   "cell_type": "code",
   "execution_count": null,
   "metadata": {},
   "outputs": [],
   "source": [
    "for i in range(2 ** (qn)):\n",
    "    print(cal_results[i].get_counts())"
   ]
  },
  {
   "cell_type": "code",
   "execution_count": 7,
   "metadata": {},
   "outputs": [],
   "source": [
    "#bin_form: dictionary[str] - Returns a dictionary of keys of correct form for qiskit histograms.\n",
    "# For instance, for a qn=3 qubit key, we want 000 rather than 00, and 010 rather than 10. \n",
    "def bin_form(count_dict, qn):\n",
    "    ret_dict = {}\n",
    "    for key in count_dict:\n",
    "        old_key = key\n",
    "        while len(key) < qn:\n",
    "            key = '0' + key\n",
    "        ret_dict[key] = count_dict[old_key]\n",
    "        \n",
    "    return ret_dict"
   ]
  },
  {
   "cell_type": "code",
   "execution_count": null,
   "metadata": {},
   "outputs": [],
   "source": [
    "dict_test = {\n",
    "    \"10\": 31,\n",
    "    \"0\": 2,\n",
    "    \"001\": 3\n",
    "}\n",
    "\n",
    "print(bin_form(dict_test, qn))"
   ]
  },
  {
   "cell_type": "code",
   "execution_count": 8,
   "metadata": {},
   "outputs": [
    {
     "name": "stdout",
     "output_type": "stream",
     "text": [
      "[[0, 0, 0, 0, 0, 0, 0, 0], [0, 0, 0, 0, 0, 0, 0, 0], [0, 0, 0, 0, 0, 0, 0, 0], [0, 0, 0, 0, 0, 0, 0, 0], [0, 0, 0, 0, 0, 0, 0, 0], [0, 0, 0, 0, 0, 0, 0, 0], [0, 0, 0, 0, 0, 0, 0, 0], [0, 0, 0, 0, 0, 0, 0, 0]]\n"
     ]
    }
   ],
   "source": [
    "qn = 3\n",
    "calib_counts_mat = [[0] * (2 ** qn)] * (2 ** qn)\n",
    "\n",
    "print(calib_counts_mat)"
   ]
  },
  {
   "cell_type": "code",
   "execution_count": 9,
   "metadata": {},
   "outputs": [],
   "source": [
    "def result_dict_to_arr(counts_dict):\n",
    "    ret_arr = [0] * (2 ** qn)\n",
    "    for (bit_str, counts) in counts_dict.items():\n",
    "        arr_pos = 0\n",
    "        bit_length = len(bit_str)\n",
    "        for i in range(bit_length):\n",
    "            arr_pos += (int(bit_str[i]) * (2 ** (bit_length - (i+1))))\n",
    "            \n",
    "        ret_arr[arr_pos] = counts\n",
    "    return ret_arr\n",
    "\n",
    "#for i in range(len(calib_counts_mat)):\n",
    " #   calib_counts_mat[i] = result_dict_to_arr(cal_results[i].get_counts())"
   ]
  },
  {
   "cell_type": "code",
   "execution_count": null,
   "metadata": {},
   "outputs": [],
   "source": [
    "array_to_latex(calib_counts_mat)"
   ]
  },
  {
   "cell_type": "code",
   "execution_count": null,
   "metadata": {},
   "outputs": [],
   "source": [
    "counts_mat = np.array(calib_list).astype(np.float64)\n",
    "normed_mat = normalize(calib_counts_mat, axis=1, norm='l1')\n",
    "\n",
    "print(normed_mat)"
   ]
  },
  {
   "cell_type": "code",
   "execution_count": null,
   "metadata": {},
   "outputs": [],
   "source": [
    "array_to_latex(normed_mat)"
   ]
  },
  {
   "cell_type": "code",
   "execution_count": null,
   "metadata": {},
   "outputs": [],
   "source": [
    "id_mat = np.identity(2**qn)\n",
    "\n",
    "array_to_latex(id_mat)"
   ]
  },
  {
   "cell_type": "code",
   "execution_count": null,
   "metadata": {},
   "outputs": [],
   "source": [
    "calib_mat = np.linalg.lstsq(normed_mat, id_mat, rcond=0)[0]"
   ]
  },
  {
   "cell_type": "code",
   "execution_count": null,
   "metadata": {},
   "outputs": [],
   "source": [
    "qn = 3"
   ]
  },
  {
   "cell_type": "code",
   "execution_count": null,
   "metadata": {},
   "outputs": [],
   "source": [
    "array_to_latex(calib_mat)"
   ]
  },
  {
   "cell_type": "code",
   "execution_count": null,
   "metadata": {},
   "outputs": [],
   "source": [
    "qc = QuantumCircuit(qn)\n",
    "qc.h(0)\n",
    "qc.cx(0, range(1, 3))\n",
    "qc.measure_all()"
   ]
  },
  {
   "cell_type": "code",
   "execution_count": null,
   "metadata": {},
   "outputs": [],
   "source": [
    "len(qc)"
   ]
  },
  {
   "cell_type": "code",
   "execution_count": null,
   "metadata": {},
   "outputs": [],
   "source": [
    "qc.draw(output = 'mpl')"
   ]
  },
  {
   "cell_type": "code",
   "execution_count": null,
   "metadata": {},
   "outputs": [],
   "source": [
    "noisy_ghz = backend_qpu.run(qc, shots=4096).result()"
   ]
  },
  {
   "cell_type": "code",
   "execution_count": null,
   "metadata": {},
   "outputs": [],
   "source": [
    "noisy_counts = noisy_ghz.get_counts()\n",
    "print(noisy_counts)"
   ]
  },
  {
   "cell_type": "code",
   "execution_count": null,
   "metadata": {},
   "outputs": [],
   "source": [
    "noisy_mat = result_dict_to_arr(noisy_counts)\n",
    "print(result_dict_to_arr(noisy_counts))            "
   ]
  },
  {
   "cell_type": "code",
   "execution_count": null,
   "metadata": {},
   "outputs": [],
   "source": [
    "mitigated_mat = np.dot(calib_mat, noisy_mat)"
   ]
  },
  {
   "cell_type": "code",
   "execution_count": null,
   "metadata": {},
   "outputs": [],
   "source": [
    "array_to_latex(mitigated_mat)"
   ]
  },
  {
   "cell_type": "code",
   "execution_count": 10,
   "metadata": {},
   "outputs": [],
   "source": [
    "def count_arr_to_dict(arr):\n",
    "    ret_dict = {}\n",
    "    get_bin = lambda x: format(x, 'b')\n",
    "    for i in range(len(arr)):\n",
    "        if get_bin(i) == '0':\n",
    "            ret_dict['000'] = arr[i]\n",
    "        elif get_bin(i) == '1':\n",
    "            ret_dict['001'] = arr[i]\n",
    "        else:\n",
    "            ret_dict[get_bin(i)] = arr[i]\n",
    "    return ret_dict\n",
    "\n",
    "#mitigated_counts = count_arr_to_dict(mitigated_mat)"
   ]
  },
  {
   "cell_type": "code",
   "execution_count": 11,
   "metadata": {},
   "outputs": [],
   "source": [
    "from qiskit.visualization import plot_histogram "
   ]
  },
  {
   "cell_type": "code",
   "execution_count": null,
   "metadata": {},
   "outputs": [],
   "source": [
    "\n",
    "plot_histogram([noisy_counts, mitigated_counts], legend=['noisy', 'mitigated'])"
   ]
  },
  {
   "cell_type": "code",
   "execution_count": null,
   "metadata": {},
   "outputs": [],
   "source": [
    "calibs_1 = gen_calib_circs(qn)\n",
    "calibs_2 = gen_calib_circs(qn)"
   ]
  },
  {
   "cell_type": "code",
   "execution_count": null,
   "metadata": {},
   "outputs": [],
   "source": [
    "for circ in calibs_1:\n",
    "    circ.cu(1.45, 6.05, 2.55, 0, 1, 0)\n",
    "    circ.i(2)\n",
    "    circ.compose(circ.inverse(), inplace = True)\n",
    "    circ.measure_all()\n"
   ]
  },
  {
   "cell_type": "code",
   "execution_count": null,
   "metadata": {},
   "outputs": [],
   "source": [
    "\n",
    "calibs_1[0].draw()"
   ]
  },
  {
   "cell_type": "code",
   "execution_count": null,
   "metadata": {},
   "outputs": [],
   "source": [
    "for circ in calibs_2:\n",
    "    circ.cnot(1, 0)\n",
    "    circ.ry(4.75, 2)\n",
    "    circ.s(0)\n",
    "    circ.x(1)\n",
    "    circ.p(1.17, 2)\n",
    "    \n",
    "    circ.compose(circ.inverse(), inplace = True)\n",
    "    circ.measure_all()\n",
    "    \n",
    "\n",
    "calibs_2[0].draw()\n"
   ]
  },
  {
   "cell_type": "code",
   "execution_count": 12,
   "metadata": {},
   "outputs": [],
   "source": [
    "# create bankend for Qiskit's AER (QSAM simulator)\n",
    "from qiskit import Aer\n",
    "aer_sim = Aer.get_backend('qasm_simulator') \n",
    "# define the backend to obtain and display state vectors\n",
    "from qiskit import BasicAer, execute\n",
    "from qiskit.tools.visualization import plot_bloch_multivector, plot_state_qsphere, array_to_latex\n",
    "\n",
    "backend_v = BasicAer.get_backend('statevector_simulator')"
   ]
  },
  {
   "cell_type": "code",
   "execution_count": null,
   "metadata": {},
   "outputs": [],
   "source": [
    "# Define an F_gate\n",
    "def F_gate(circ,q,i,j,n,k) :\n",
    "    theta = np.arccos(np.sqrt(1/(n-k+1)))\n",
    "    circ.ry(-theta,q[j])       \n",
    "    circ.cz(q[i],q[j])\n",
    "    circ.ry(theta,q[j])\n",
    "    circ.barrier(q[i])\n",
    "# Define the cxrv gate which uses reverse CNOT instead of CNOT\n",
    "def  cxrv(circ,q,i,j) :\n",
    "    circ.h(q[i])\n",
    "    circ.h(q[j])\n",
    "    circ.cx(q[j],q[i])\n",
    "    circ.h(q[i])\n",
    "    circ.h(q[j])\n",
    "    circ.barrier(q[i],q[j])"
   ]
  },
  {
   "cell_type": "code",
   "execution_count": null,
   "metadata": {},
   "outputs": [],
   "source": [
    "def F_gates(circ, q, n, k) :\n",
    "  if(n > k):\n",
    "    theta = np.arccos(np.sqrt( 1 / (n - k + 1)))\n",
    "    \n",
    "    circ.ry(-theta, q[n - k - 1])\n",
    "    circ.cz(q[n - k], q[n - k - 1])\n",
    "    circ.ry(theta, q[n - k - 1])\n",
    "    circ.barrier(q[n - k])\n",
    "\n",
    "    F_gates(circ, q, n, k + 1)\n",
    "\n",
    "def cx_all(circ, q, n):\n",
    "  if(n > 1):\n",
    "    circ.cx(q[n - 2], q[n - 1])\n",
    "    cx_all(circ, q, n - 1)\n",
    "\n",
    "def cxrv_all(circ, q, n):   \n",
    "  if(n > 1):\n",
    "    circ.cx(q[n-1], q[n-2]) \n",
    "    cxrv_all(circ, q, n - 1)"
   ]
  },
  {
   "cell_type": "code",
   "execution_count": null,
   "metadata": {},
   "outputs": [],
   "source": [
    "#Generates an n-qubit W-state. n: number of qubits\n",
    "#NOTE AGAIN: Does not measure!\n",
    "def gen_w_state(n):\n",
    "    q = QuantumRegister(n)\n",
    "    W_states = QuantumCircuit(n)\n",
    "    \n",
    "    W_states.x(q[n-1])\n",
    "    F_gates(W_states, q, n, 1)\n",
    "    cx_all(W_states, q, n)\n",
    "    \n",
    "    return W_states\n"
   ]
  },
  {
   "cell_type": "code",
   "execution_count": null,
   "metadata": {},
   "outputs": [],
   "source": [
    "w_state_circ = gen_w_state(qn)\n",
    "w_state_circ.draw(output = 'mpl')"
   ]
  },
  {
   "cell_type": "code",
   "execution_count": null,
   "metadata": {},
   "outputs": [],
   "source": [
    "w_state_circ.measure_all()"
   ]
  },
  {
   "cell_type": "code",
   "execution_count": null,
   "metadata": {},
   "outputs": [],
   "source": [
    "print(w_state_circ.num_qubits)"
   ]
  },
  {
   "cell_type": "code",
   "execution_count": null,
   "metadata": {},
   "outputs": [],
   "source": [
    "shots = 1024\n",
    "result = execute(w_state_circ, backend=backend_aer, shots=shots)\n",
    "plot_histogram(result.result().get_counts(w_state_circ))"
   ]
  },
  {
   "cell_type": "code",
   "execution_count": null,
   "metadata": {},
   "outputs": [],
   "source": [
    "noisy_w = backend_qpu.run(w_state_circ, shots=4096).result()"
   ]
  },
  {
   "cell_type": "code",
   "execution_count": null,
   "metadata": {},
   "outputs": [],
   "source": [
    "noisy_w_counts = noisy_w.get_counts()\n",
    "print(noisy_w_counts)"
   ]
  },
  {
   "cell_type": "code",
   "execution_count": null,
   "metadata": {},
   "outputs": [],
   "source": [
    "noisy_w_mat = result_dict_to_arr(noisy_w_counts)\n",
    "mitigated_w_mat = np.dot(calib_mat, noisy_w_mat)\n",
    "array_to_latex(mitigated_w_mat)"
   ]
  },
  {
   "cell_type": "code",
   "execution_count": null,
   "metadata": {},
   "outputs": [],
   "source": [
    "mitigated_w_counts = count_arr_to_dict(mitigated_w_mat)\n",
    "print(mitigated_w_counts)"
   ]
  },
  {
   "cell_type": "code",
   "execution_count": null,
   "metadata": {},
   "outputs": [],
   "source": [
    "mitigated_w_counts['010'] = mitigated_w_counts.pop('10')\n",
    "mitigated_w_counts['011'] = mitigated_w_counts.pop('11')"
   ]
  },
  {
   "cell_type": "code",
   "execution_count": null,
   "metadata": {},
   "outputs": [],
   "source": [
    "from qiskit.visualization import plot_histogram \n",
    "plot_histogram([noisy_w_counts, mitigated_w_counts], legend=['noisy', 'mitigated'])"
   ]
  },
  {
   "cell_type": "code",
   "execution_count": 13,
   "metadata": {},
   "outputs": [],
   "source": [
    "from qiskit.circuit.random import random_circuit"
   ]
  },
  {
   "cell_type": "code",
   "execution_count": null,
   "metadata": {},
   "outputs": [],
   "source": [
    "qc_rand = random_circuit(3, 3)\n",
    "qc_rand.draw(output = 'mpl')"
   ]
  },
  {
   "cell_type": "code",
   "execution_count": null,
   "metadata": {},
   "outputs": [],
   "source": [
    "qc_rand.data"
   ]
  },
  {
   "cell_type": "code",
   "execution_count": 14,
   "metadata": {},
   "outputs": [],
   "source": [
    "def gen_first_half_circ(qc, qn):  \n",
    "    temp_circ = QuantumCircuit(qn)\n",
    "    ret_circ = QuantumCircuit(qn)\n",
    "    req_depth = (qc.depth() // 2)\n",
    "    for i in qc.data:\n",
    "        temp_circ.data.append(i)\n",
    "        if(temp_circ.depth() <= req_depth):\n",
    "            ret_circ.data.append(i)\n",
    "        else:\n",
    "            return ret_circ.compose(ret_circ.inverse())\n",
    "        \n",
    "def gen_second_half_circ(qc, qn):\n",
    "    temp_circ = QuantumCircuit(qn)\n",
    "    ret_circ = QuantumCircuit(qn)\n",
    "    req_depth = (qc.depth() // 2)\n",
    "    for i in qc.data:\n",
    "        temp_circ.data.append(i)\n",
    "        if(temp_circ.depth() > req_depth):\n",
    "            ret_circ.data.append(i)\n",
    "    return ret_circ.compose(ret_circ.inverse())"
   ]
  },
  {
   "cell_type": "code",
   "execution_count": null,
   "metadata": {},
   "outputs": [],
   "source": [
    "calib_1 = gen_calib_circs(qn)\n",
    "calib_2 = gen_calib_circs(qn)"
   ]
  },
  {
   "cell_type": "code",
   "execution_count": null,
   "metadata": {},
   "outputs": [],
   "source": [
    "first_half = gen_first_half_circ(qc_rand, qn)\n",
    "second_half = gen_second_half_circ(qc_rand, qn)\n",
    "\n",
    "for circ in calib_1:\n",
    "    circ.compose(first_half, inplace = True)\n",
    "    \n",
    "for circ in calib_2:\n",
    "    circ.compose(second_half, inplace = True)"
   ]
  },
  {
   "cell_type": "code",
   "execution_count": null,
   "metadata": {},
   "outputs": [],
   "source": [
    "calib_1[1].draw()"
   ]
  },
  {
   "cell_type": "code",
   "execution_count": 15,
   "metadata": {},
   "outputs": [],
   "source": [
    "# general-error-mitigation-helper: \n",
    "# Input: qc: (QuantumCircuit) - Circuit of interest (mitigated circuit)\n",
    "#       qn: (int) - Number of qubits\n",
    "# Output: calib_1: List(QuantumCircuit) - A list of 2^qn calibration circuits composed with the gates of the circuit of interest and their inverses up to depth D / 2\n",
    "#         calib_2: List(QuantumCircuit) - A list of 2^qn calibration circuits composed with the gates of the circuit of interest and their inverses from depth D / 2 to D\n",
    "\n",
    "def general_error_mitigation_helper(circ):\n",
    "    qn = circ.num_qubits\n",
    "    calib_1 = gen_calib_circs(qn)\n",
    "    calib_2 = gen_calib_circs(qn)\n",
    "    first_half = gen_first_half_circ(circ, qn)\n",
    "    second_half = gen_second_half_circ(circ, qn)\n",
    "\n",
    "    for circ1 in calib_1:\n",
    "        circ1.compose(first_half, inplace = True)\n",
    "        circ1.measure_all()\n",
    "\n",
    "    for circ2 in calib_2:\n",
    "        circ2.compose(second_half, inplace = True)\n",
    "        circ2.measure_all()\n",
    "        \n",
    "    return calib_1, calib_2\n",
    "\n"
   ]
  },
  {
   "cell_type": "code",
   "execution_count": null,
   "metadata": {},
   "outputs": [],
   "source": [
    "first_half, second_half = general_error_mitigation_helper(qc_rand, qn)"
   ]
  },
  {
   "cell_type": "code",
   "execution_count": null,
   "metadata": {},
   "outputs": [],
   "source": [
    "first_half[0].draw(output = 'mpl')"
   ]
  },
  {
   "cell_type": "code",
   "execution_count": null,
   "metadata": {},
   "outputs": [],
   "source": [
    "second_half[2].draw(output = 'mpl')"
   ]
  },
  {
   "cell_type": "code",
   "execution_count": null,
   "metadata": {},
   "outputs": [],
   "source": [
    "calib_results_1 = [0] * 2 ** qn\n",
    "calib_results_2 = [0] * 2 ** qn"
   ]
  },
  {
   "cell_type": "code",
   "execution_count": 16,
   "metadata": {},
   "outputs": [],
   "source": [
    "import time"
   ]
  },
  {
   "cell_type": "code",
   "execution_count": null,
   "metadata": {},
   "outputs": [],
   "source": [
    "start_time = time.time()\n",
    "print(\"Start time: \", time.ctime(start_time))\n",
    "for i in range(2**(qn)):\n",
    "    # In IonQ, circuits without any gates can only have a maximum of\n",
    "    # 1000 shots. Anything more returns an error. This reduces accuracy\n",
    "    # for the calib matrix entry A_00, but that will always be \n",
    "    # very nearly 1.0, because any noise is entirely background noise\n",
    "    # rather than noise introduced by gates and dephasing.\n",
    "    if i == 0:\n",
    "        calib_results_1[i] = backend_qpu.run(first_half[i], shots=1000).result()\n",
    "        calib_results_2[i] = backend_qpu.run(second_half[i], shots=1000).result()\n",
    "    else:\n",
    "        calib_results_1[i] = backend_qpu.run(first_half[i], shots=4096).result()\n",
    "        calib_results_2[i] = backend_qpu.run(second_half[i], shots=4096).result()\n",
    "        \n",
    "end_time = time.time()\n",
    "print(\"End time: \", time.ctime(end_time))"
   ]
  },
  {
   "cell_type": "code",
   "execution_count": null,
   "metadata": {},
   "outputs": [],
   "source": [
    "calib_counts_mat_1 = [[0] * (2 ** qn)] * (2 ** qn)\n",
    "calib_counts_mat_2 = [[0] * (2 ** qn)] * (2 ** qn)\n",
    "for i in range(len(calib_counts_mat_1)):\n",
    "    calib_counts_mat_1[i] = result_dict_to_arr(calib_results_1[i].get_counts())\n",
    "    calib_counts_mat_2[i] = result_dict_to_arr(calib_results_2[i].get_counts())\n",
    "    print(calib_counts_mat_1[i])\n",
    "    print(calib_counts_mat_2[i])\n",
    "    \n",
    "avg_calib_counts_mat = [[0] * 2 ** qn] * 2 ** qn\n",
    "\n",
    "for i in range(len(avg_calib_counts_mat)):\n",
    "    for j in range(len(avg_calib_counts_mat[i])):\n",
    "        avg_calib_counts_mat[i][j] = (calib_counts_mat_1[i][j] + calib_counts_mat_2[i][j]) / 2"
   ]
  },
  {
   "cell_type": "code",
   "execution_count": null,
   "metadata": {},
   "outputs": [],
   "source": [
    "calib_arr_1 = np.array(calib_counts_mat_1)"
   ]
  },
  {
   "cell_type": "code",
   "execution_count": null,
   "metadata": {},
   "outputs": [],
   "source": [
    "calib_arr_2 = np.array(calib_counts_mat_2)"
   ]
  },
  {
   "cell_type": "code",
   "execution_count": null,
   "metadata": {},
   "outputs": [],
   "source": [
    "avg_calib_counts_mat = ((calib_arr_1 + calib_arr_2) / 2)"
   ]
  },
  {
   "cell_type": "code",
   "execution_count": null,
   "metadata": {},
   "outputs": [],
   "source": [
    "array_to_latex(avg_calib_counts_mat)"
   ]
  },
  {
   "cell_type": "code",
   "execution_count": null,
   "metadata": {},
   "outputs": [],
   "source": [
    "normed_mat = normalize(avg_calib_counts_mat, axis=1, norm='l1')\n",
    "final_calib_mat = np.linalg.lstsq(normed_mat, id_mat, rcond=0)[0]"
   ]
  },
  {
   "cell_type": "code",
   "execution_count": null,
   "metadata": {},
   "outputs": [],
   "source": [
    "noisy_gem = backend_qpu.run(qc_rand, shots=4096).result()"
   ]
  },
  {
   "cell_type": "code",
   "execution_count": null,
   "metadata": {},
   "outputs": [],
   "source": [
    "noisy_gem_counts_1 = noisy_gem.get_counts()"
   ]
  },
  {
   "cell_type": "code",
   "execution_count": null,
   "metadata": {},
   "outputs": [],
   "source": [
    "noisy_gem_counts = bin_form(noisy_gem_counts_1, qn)"
   ]
  },
  {
   "cell_type": "code",
   "execution_count": null,
   "metadata": {},
   "outputs": [],
   "source": [
    "noisy_gem_mat = result_dict_to_arr(noisy_gem.get_counts())"
   ]
  },
  {
   "cell_type": "code",
   "execution_count": null,
   "metadata": {},
   "outputs": [],
   "source": [
    "array_to_latex(noisy_gem_mat)"
   ]
  },
  {
   "cell_type": "code",
   "execution_count": null,
   "metadata": {},
   "outputs": [],
   "source": [
    "mitigated_gem_mat = np.dot(final_calib_mat, noisy_gem_mat)"
   ]
  },
  {
   "cell_type": "code",
   "execution_count": null,
   "metadata": {},
   "outputs": [],
   "source": [
    "qc_rand.measure_all()"
   ]
  },
  {
   "cell_type": "code",
   "execution_count": null,
   "metadata": {},
   "outputs": [],
   "source": [
    "ideal_gem = execute(qc_rand, backend=backend_aer, shots=4096).result()"
   ]
  },
  {
   "cell_type": "code",
   "execution_count": null,
   "metadata": {},
   "outputs": [],
   "source": [
    "print(ideal_gem.get_counts())"
   ]
  },
  {
   "cell_type": "code",
   "execution_count": null,
   "metadata": {},
   "outputs": [],
   "source": [
    "ideal_gem_counts = ideal_gem.get_counts()"
   ]
  },
  {
   "cell_type": "code",
   "execution_count": null,
   "metadata": {},
   "outputs": [],
   "source": [
    "mitigated_gem_counts_1 = count_arr_to_dict(mitigated_gem_mat)"
   ]
  },
  {
   "cell_type": "code",
   "execution_count": null,
   "metadata": {},
   "outputs": [],
   "source": [
    "mitigated_gem_counts = bin_form(mitigated_gem_counts_1, qn)"
   ]
  },
  {
   "cell_type": "code",
   "execution_count": null,
   "metadata": {},
   "outputs": [],
   "source": [
    "plot_histogram([ideal_gem_counts, noisy_gem_counts, mitigated_gem_counts], legend=['ideal', 'noisy', 'mitigated'])"
   ]
  },
  {
   "cell_type": "code",
   "execution_count": 17,
   "metadata": {},
   "outputs": [],
   "source": [
    "from qiskit.circuit import Reset\n",
    "from qiskit.extensions import (IGate, UGate, XGate,\n",
    "                               YGate, ZGate, HGate, SGate, SdgGate, TGate,\n",
    "                               TdgGate, RXGate, RYGate, RZGate, CXGate,\n",
    "                               CYGate, CZGate, CHGate, CRZGate, CUGate,\n",
    "                               SwapGate, RZZGate,\n",
    "                               CCXGate, CSwapGate)\n",
    "from qiskit.circuit.exceptions import CircuitError"
   ]
  },
  {
   "cell_type": "code",
   "execution_count": 18,
   "metadata": {},
   "outputs": [],
   "source": [
    "def modified_random_circuit(n_qubits, depth, max_operands=3, measure=False,\n",
    "                   conditional=False, reset=False, seed=None):\n",
    "#   FROM QISKIT:\n",
    "#   Generate random circuit of arbitrary size and form.\n",
    "#\n",
    "#   This function will generate a random circuit by randomly selecting gates\n",
    "#    from the set of standard gates in :mod:`qiskit.extensions`. For example:\n",
    "#    .. jupyter-execute::\n",
    "#        from qiskit.circuit.random import random_circuit\n",
    "#        circ = random_circuit(2, 2, measure=True)\n",
    "#        circ.draw(output='mpl')\n",
    "#    Args:\n",
    "#        n_qubits (int): number of quantum wires\n",
    "#        depth (int): layers of operations (i.e. critical path length)\n",
    "#        max_operands (int): maximum operands of each gate (between 1 and 3)\n",
    "#        measure (bool): if True, measure all qubits at the end\n",
    "#        conditional (bool): if True, insert middle measurements and conditionals\n",
    "#        reset (bool): if True, insert middle resets\n",
    "#        seed (int): sets random seed (optional)\n",
    "#   Returns:\n",
    "#        QuantumCircuit: constructed circuit\n",
    "#    Raises:\n",
    "#        CircuitError: when invalid options given\n",
    "            \n",
    "    if max_operands < 1 or max_operands > 3:\n",
    "        raise CircuitError(\"max_operands must be between 1 and 3\")\n",
    "\n",
    "    one_q_ops = [IGate, XGate, YGate, ZGate,\n",
    "                 HGate, SGate, SdgGate, TGate, TdgGate, RXGate, RYGate, RZGate]\n",
    "    one_param = [RXGate, RYGate, RZGate, RZZGate, CRZGate]\n",
    "    two_param = []\n",
    "    three_param = [UGate]\n",
    "    four_param = [CUGate]\n",
    "    two_q_ops = [CXGate, CYGate, CZGate, CHGate, CRZGate,\n",
    "                  SwapGate, RZZGate]\n",
    "    three_q_ops = [CCXGate]\n",
    "\n",
    "\n",
    "    qr = QuantumRegister(n_qubits, 'q')\n",
    "    qc = QuantumCircuit(n_qubits)\n",
    "\n",
    "    if measure or conditional:\n",
    "        cr = ClassicalRegister(n_qubits, 'c')\n",
    "        qc.add_register(cr)\n",
    "\n",
    "    if reset:\n",
    "        one_q_ops += [Reset]\n",
    "\n",
    "    if seed is None:\n",
    "        seed = np.random.randint(0, np.iinfo(np.int32).max)\n",
    "    rng = np.random.RandomState(seed)\n",
    "\n",
    "    # apply arbitrary random operations at every depth\n",
    "    for _ in range(depth):\n",
    "        # choose either 1, 2, or 3 qubits for the operation\n",
    "        remaining_qubits = list(range(n_qubits))\n",
    "        while remaining_qubits:\n",
    "            max_possible_operands = min(len(remaining_qubits), max_operands)\n",
    "            num_operands = rng.choice(range(max_possible_operands)) + 1\n",
    "            rng.shuffle(remaining_qubits)\n",
    "            operands = remaining_qubits[:num_operands]\n",
    "            remaining_qubits = [q for q in remaining_qubits if q not in operands]\n",
    "            if num_operands == 1:\n",
    "                operation = rng.choice(one_q_ops)\n",
    "            elif num_operands == 2:\n",
    "                operation = rng.choice(two_q_ops)\n",
    "            elif num_operands == 3:\n",
    "                operation = rng.choice(three_q_ops)\n",
    "            if operation in one_param:\n",
    "                num_angles = 1\n",
    "            elif operation in two_param:\n",
    "                num_angles = 2\n",
    "            elif operation in three_param:\n",
    "                num_angles = 3\n",
    "            elif operation in four_param:\n",
    "                num_angles = 4\n",
    "            else:\n",
    "                num_angles = 0\n",
    "            angles = [rng.uniform(0, 2 * np.pi) for x in range(num_angles)]\n",
    "            register_operands = [qr[i] for i in operands]\n",
    "            op = operation(*angles)\n",
    "\n",
    "            # with some low probability, condition on classical bit values\n",
    "            if conditional and rng.choice(range(10)) == 0:\n",
    "                value = rng.randint(0, np.power(2, n_qubits))\n",
    "                op.condition = (cr, value)\n",
    "\n",
    "            qc.append(op, register_operands)\n",
    "\n",
    "    if measure:\n",
    "        qc.measure(qr, cr)\n",
    "\n",
    "    return qc"
   ]
  },
  {
   "cell_type": "code",
   "execution_count": 19,
   "metadata": {},
   "outputs": [],
   "source": [
    "from qiskit_ionq import GPIGate, GPI2Gate, MSGate\n",
    "backend_simq2 = provider.get_backend(\"ionq_simulator\", gateset=\"native\")\n",
    "backend_qpu2 = provider.get_backend(\"ionq_qpu\", gateset=\"native\")"
   ]
  },
  {
   "cell_type": "code",
   "execution_count": 20,
   "metadata": {},
   "outputs": [
    {
     "name": "stdout",
     "output_type": "stream",
     "text": [
      "     \n",
      "q_0: \n",
      "     \n",
      "q_1: \n",
      "     \n",
      "q_2: \n",
      "     \n",
      "     ┌──────────┐\n",
      "q_0: ┤ Gpi(0.5) ├\n",
      "     └──────────┘\n",
      "q_1: ────────────\n",
      "                 \n",
      "q_2: ────────────\n",
      "                 \n",
      "                 \n",
      "q_0: ────────────\n",
      "     ┌──────────┐\n",
      "q_1: ┤ Gpi(0.5) ├\n",
      "     └──────────┘\n",
      "q_2: ────────────\n",
      "                 \n",
      "     ┌──────────┐\n",
      "q_0: ┤ Gpi(0.5) ├\n",
      "     ├──────────┤\n",
      "q_1: ┤ Gpi(0.5) ├\n",
      "     └──────────┘\n",
      "q_2: ────────────\n",
      "                 \n",
      "                 \n",
      "q_0: ────────────\n",
      "                 \n",
      "q_1: ────────────\n",
      "     ┌──────────┐\n",
      "q_2: ┤ Gpi(0.5) ├\n",
      "     └──────────┘\n",
      "     ┌──────────┐\n",
      "q_0: ┤ Gpi(0.5) ├\n",
      "     └──────────┘\n",
      "q_1: ────────────\n",
      "     ┌──────────┐\n",
      "q_2: ┤ Gpi(0.5) ├\n",
      "     └──────────┘\n",
      "                 \n",
      "q_0: ────────────\n",
      "     ┌──────────┐\n",
      "q_1: ┤ Gpi(0.5) ├\n",
      "     ├──────────┤\n",
      "q_2: ┤ Gpi(0.5) ├\n",
      "     └──────────┘\n",
      "     ┌──────────┐\n",
      "q_0: ┤ Gpi(0.5) ├\n",
      "     ├──────────┤\n",
      "q_1: ┤ Gpi(0.5) ├\n",
      "     ├──────────┤\n",
      "q_2: ┤ Gpi(0.5) ├\n",
      "     └──────────┘\n"
     ]
    }
   ],
   "source": [
    "def gen_native_calib_circs(qn):\n",
    "    qc = QuantumCircuit(qn)\n",
    "    circ_list = []\n",
    "    build_native_circ(qn, qc, circ_list)\n",
    "    return circ_list\n",
    "\n",
    "# build_circ: builds the circuits for gen_calib_circs\n",
    "# IMPORTANT NOTE: THIS DOES NOT MEASURE ALL BY DEFAULT\n",
    "def build_native_circ(i, qc, circ_list):\n",
    "    if i > 0:\n",
    "        build_native_circ(i-1, qc.copy(), circ_list)\n",
    "        qc.append(GPIGate(0.5), [i - 1])\n",
    "        build_native_circ(i-1, qc, circ_list)\n",
    "    else:\n",
    "        circ_list.append(qc)\n",
    "        \n",
    "for i in range(8):\n",
    "        print(gen_native_calib_circs(3)[i].draw())"
   ]
  },
  {
   "cell_type": "code",
   "execution_count": 21,
   "metadata": {},
   "outputs": [],
   "source": [
    "def simple_error_mitigation(qc, shots, backend, backend_sim = backend_simq, gates= 'qis'):\n",
    "    circ = qc.copy()\n",
    "    # Removes the final measurements if they exist, does nothing otherwise. Ensures that all experiments are being measured\n",
    "    # as expected.\n",
    "    circ.remove_final_measurements(inplace=True)\n",
    "    circ.measure_all()\n",
    "    start_time = time.time()\n",
    "    print(\"Start time: \", time.ctime(start_time))\n",
    "    qn = circ.num_qubits\n",
    "    id_mat = np.identity(2**qn)\n",
    "    if(gates == 'qis'):\n",
    "        qcs = gen_calib_circs(qn)\n",
    "        print('generated qis calib')\n",
    "    elif(gates == 'native'):\n",
    "        qcs = gen_native_calib_circs(qn)\n",
    "        print('generated native calib')\n",
    "    else:\n",
    "        print('Invalid basis gate option. The options are: ''qis'' (default), ''native''')\n",
    "    cal_run = [0] * (2 ** qn)\n",
    "    cal_results = [0] * (2 ** qn)\n",
    "    for i in range(2**(qn)):\n",
    "        # In IonQ, circuits without any gates can only have a maximum of\n",
    "        # 1000 shots. Anything more returns an error. This reduces accuracy\n",
    "        # for the calib matrix entry A_00, but that will always be \n",
    "        # very nearly 1.0, because any noise is entirely background noise\n",
    "        # rather than noise introduced by gates and dephasing.\n",
    "        if(i == 0):\n",
    "            if(gates == 'qis'):\n",
    "                # possibly switch backend.run with execute\n",
    "                #Call .result() afterward\n",
    "                cal_run[i] = backend.run(qcs[i], shots=1000)\n",
    "                print('Done with running calibration circuit ', i)\n",
    "        else:\n",
    "            print('i=', i)\n",
    "            cal_run[i] = backend.run(qcs[i], shots=shots)\n",
    "            print('Done with running calibration circuit ', i)\n",
    "    noisy_run = backend.run(circ, shots = shots) \n",
    "    ideal_run = backend_sim.run(circ, shots = shots)\n",
    "    \n",
    "    for i in range(1, 2**(qn)):\n",
    "        #if(i == 0):\n",
    "            #cal_results[i] = backend_sim.run(qcs[i], shots = 1000).result()\n",
    "        start_time = time.time()\n",
    "        print(\"Start time for results of calib circ\", i, \": \",time.ctime(start_time))\n",
    "        cal_results[i] = cal_run[i].result()\n",
    "        end_time = time.time()\n",
    "        print(\"End time for results of calib circ\", i, \": \", time.ctime(end_time))\n",
    "        \n",
    "    \n",
    "    noisy_results = noisy_run.result()\n",
    "    noisy_counts = noisy_results.get_counts()\n",
    "    \n",
    "    ideal_results = ideal_run.result()\n",
    "    ideal_counts = ideal_results.get_counts()\n",
    "        \n",
    "    calib_counts_mat = [[0] * (2 ** qn)] * (2 ** qn)\n",
    "    \n",
    "    calib_counts_mat[0] = [shots] + ([0] * ((2 ** qn) - 1))\n",
    "    for i in range(1, len(calib_counts_mat)):\n",
    "        calib_counts_mat[i] = result_dict_to_arr(cal_results[i].get_counts())\n",
    "        \n",
    "    normed_mat = normalize(calib_counts_mat, axis=1, norm='l1')\n",
    "    calib_mat = np.linalg.lstsq(normed_mat, id_mat, rcond=0)[0]\n",
    "        \n",
    "    \n",
    "    noisy_counts_formatted = bin_form(noisy_counts, qn)\n",
    "    noisy_mat = result_dict_to_arr(noisy_counts_formatted)\n",
    "    \n",
    "    mitigated_mat = np.dot(calib_mat, noisy_mat)\n",
    "    mitigated_counts = count_arr_to_dict(mitigated_mat)\n",
    "    mitigated_counts_formatted = bin_form(mitigated_counts, qn)\n",
    "    \n",
    "    ideal_counts_formatted = bin_form(ideal_counts, qn)\n",
    "    #print('Noisy Matrix:')\n",
    "    #array_to_latex(noisy_mat)\n",
    "    \n",
    "    #print('Mitigated Matrix:')\n",
    "    #array_to_latex(mitigated_mat)\n",
    "    \n",
    "    plot_histogram([noisy_counts_formatted, mitigated_counts_formatted], legend=['noisy', 'mitigated'])\n",
    "    end_time = time.time()\n",
    "    print(\"End time: \", time.ctime(end_time))\n",
    "    \n",
    "    return noisy_counts_formatted, mitigated_counts_formatted, ideal_counts_formatted"
   ]
  },
  {
   "cell_type": "code",
   "execution_count": 22,
   "metadata": {},
   "outputs": [],
   "source": [
    "def general_error_mitigation(qc, shots, backend, backend_sim = \"backend_simq\"):\n",
    "    circ = qc.copy()\n",
    "    qn = circ.num_qubits\n",
    "    circ.remove_final_measurements(inplace=True)\n",
    "    id_mat = np.identity(2**qn)\n",
    "    circ.measure_all()\n",
    "    first_half, second_half = general_error_mitigation_helper(circ)\n",
    "    start_time = time.time()\n",
    "    calib_run_1, calib_run_2, calib_results_1, calib_results_2 = [0] * 2 ** qn\n",
    "    print(\"Start time for calibration matrices: \", time.ctime(start_time))\n",
    "    for i in range(2**(qn)):\n",
    "            calib_run_1[i] = backend_qpu.run(first_half[i], shots=shots)\n",
    "            calib_run_2[i] = backend_qpu.run(second_half[i], shots=shots)\n",
    "\n",
    "    end_time = time.time()\n",
    "    print(\"End time: \", time.ctime(end_time))\n",
    "\n",
    "    noisy_gem_run = backend_qpu.run(qc, shots=shots)\n",
    "    \n",
    "    for i in range(2 ** qn):\n",
    "        calib_results_1[i] = calib_run_1[i].result()\n",
    "        calib_results_2[i] = calib_run_2[i].result()\n",
    "        \n",
    "    noisy_gem = noisy_gem_run.result()\n",
    "    \n",
    "    calib_counts_mat_1 = [[0] * (2 ** qn)] * (2 ** qn)\n",
    "    calib_counts_mat_2 = [[0] * (2 ** qn)] * (2 ** qn)\n",
    "    \n",
    "    for i in range(len(calib_counts_mat_1)):\n",
    "        calib_counts_mat_1[i] = result_dict_to_arr(calib_results_1[i].get_counts())\n",
    "        calib_counts_mat_2[i] = result_dict_to_arr(calib_results_2[i].get_counts())\n",
    "        print(calib_counts_mat_1[i])\n",
    "        print(calib_counts_mat_2[i])\n",
    "\n",
    "    avg_calib_counts_mat = [[0] * 2 ** qn] * 2 ** qn\n",
    "\n",
    "    calib_arr_1 = np.array(calib_counts_mat_1)\n",
    "    calib_arr_2 = np.array(calib_counts_mat_2)\n",
    "    avg_calib_counts_mat = ((calib_arr_1 + calib_arr_2) / 2)\n",
    "    \n",
    "    normed_mat = normalize(avg_calib_counts_mat, axis=1, norm='l1')\n",
    "    final_calib_mat = np.linalg.lstsq(normed_mat, id_mat, rcond=0)[0]\n",
    "    \n",
    "    \n",
    "    noisy_gem_mat = result_dict_to_arr(noisy_gem.get_counts())\n",
    "    \n",
    "    mitigated_gem_mat = np.dot(final_calib_mat, noisy_gem_mat)\n",
    "    mitigated_gem_counts = count_arr_to_dict(mitigated_gem_mat)\n",
    "    mitigated_gem_formatted = bin_form(mitigated_gem_counts, qn)\n",
    "    \n",
    "    \n",
    "    return noisy_gem, mitigated_gem_mat, ideal_gem_mat"
   ]
  },
  {
   "cell_type": "code",
   "execution_count": 23,
   "metadata": {},
   "outputs": [
    {
     "data": {
      "image/png": "[encoded data removed]",
      "text/plain": [
       "<Figure size 267.197x204.68 with 1 Axes>"
      ]
     },
     "execution_count": 23,
     "metadata": {},
     "output_type": "execute_result"
    }
   ],
   "source": [
    "rand_circ_test = modified_random_circuit(3, 3)\n",
    "rand_circ_test.draw(output = 'mpl')"
   ]
  },
  {
   "cell_type": "code",
   "execution_count": 24,
   "metadata": {},
   "outputs": [],
   "source": [
    "rand_circ_test.measure_all()"
   ]
  },
  {
   "cell_type": "code",
   "execution_count": 25,
   "metadata": {},
   "outputs": [],
   "source": [
    "rand_circ_test_run = backend_qpu.run(rand_circ_test, shots = 4096).result()"
   ]
  },
  {
   "cell_type": "code",
   "execution_count": 26,
   "metadata": {},
   "outputs": [
    {
     "data": {
      "image/png": "[encoded data removed]",
      "text/plain": [
       "<Figure size 1411x204.68 with 1 Axes>"
      ]
     },
     "execution_count": 26,
     "metadata": {},
     "output_type": "execute_result"
    }
   ],
   "source": [
    "rand_circ_2 = modified_random_circuit(3, 20, max_operands = 2)\n",
    "rand_circ_2.draw(output = 'mpl')"
   ]
  },
  {
   "cell_type": "code",
   "execution_count": null,
   "metadata": {},
   "outputs": [],
   "source": [
    "test = simple_error_mitigation(rand_circ_2, 4096, backend_qpu)"
   ]
  },
  {
   "cell_type": "code",
   "execution_count": null,
   "metadata": {},
   "outputs": [],
   "source": [
    "start_time = time.time()\n",
    "print(\"Start time: \", time.ctime(start_time))\n",
    "test_rand = backend_qpu.run(rand_circ_2, shots=4096).result()\n",
    "print(test_rand.get_counts())\n",
    "end_time = time.time()\n",
    "print(\"End time: \", time.ctime(end_time))"
   ]
  },
  {
   "cell_type": "code",
   "execution_count": null,
   "metadata": {},
   "outputs": [],
   "source": [
    "start_time = time.time()\n",
    "print(\"Start time: \", time.ctime(start_time))\n",
    "test_rand_sim = backend_simq.run(rand_circ_2, shots=4096).result()\n",
    "print(test_rand_sim.get_counts())\n",
    "end_time = time.time()\n",
    "print(\"End time: \", time.ctime(end_time))"
   ]
  },
  {
   "cell_type": "code",
   "execution_count": null,
   "metadata": {},
   "outputs": [],
   "source": [
    "start_time = time.time()\n",
    "print(\"Start time: \", time.ctime(start_time))\n",
    "test_rand_sim = backend_simq.run(rand_circ_2, shots=4096).result()\n",
    "print(test_rand_sim.get_counts())\n",
    "end_time = time.time()\n",
    "print(\"End time: \", time.ctime(end_time))"
   ]
  },
  {
   "cell_type": "code",
   "execution_count": null,
   "metadata": {},
   "outputs": [],
   "source": [
    "rand_circ_2.draw(output = 'mpl')"
   ]
  },
  {
   "cell_type": "code",
   "execution_count": null,
   "metadata": {},
   "outputs": [],
   "source": [
    "sem_noisy, sem_mit = simple_error_mitigation(rand_circ_2, 4096, backend_qpu)"
   ]
  },
  {
   "cell_type": "code",
   "execution_count": 27,
   "metadata": {},
   "outputs": [],
   "source": [
    "def ionq_native_random_circuit(n_qubits, depth, max_operands=2, measure=False,\n",
    "                   conditional=False, reset=False, seed=None):\n",
    "#   FROM QISKIT:\n",
    "#   Generate random circuit of arbitrary size and form.\n",
    "#   \n",
    "#   This function will generate a random circuit by randomly selecting gates\n",
    "#    from the set of native gates provided by IonQ (GPIGate, GPI2Gate, MSGate)\n",
    "#   These three gates form a universal basis.\n",
    "#    Args:\n",
    "#        n_qubits (int): number of quantum wires\n",
    "#        depth (int): layers of operations (i.e. critical path length)\n",
    "#        max_operands (int): maximum operands of each gate (between 1 and 3)\n",
    "#        measure (bool): if True, measure all qubits at the end\n",
    "#        conditional (bool): if True, insert middle measurements and conditionals\n",
    "#        reset (bool): if True, insert middle resets\n",
    "#        seed (int): sets random seed (optional)\n",
    "#   Returns:\n",
    "#        QuantumCircuit: constructed circuit\n",
    "#    Raises:\n",
    "#        CircuitError: when invalid options given\n",
    "            \n",
    "    if max_operands < 1 or max_operands > 2:\n",
    "        raise CircuitError(\"max_operands must be between 1 and 2\")\n",
    "\n",
    "    one_q_ops = [GPIGate, GPI2Gate]\n",
    "    one_param = [GPIGate, GPI2Gate]\n",
    "    two_param = [MSGate]\n",
    "    two_q_ops = [MSGate]\n",
    "\n",
    "\n",
    "    qr = QuantumRegister(n_qubits, 'q')\n",
    "    qc = QuantumCircuit(n_qubits)\n",
    "\n",
    "    if measure or conditional:\n",
    "        cr = ClassicalRegister(n_qubits, 'c')\n",
    "        qc.add_register(cr)\n",
    "\n",
    "    if reset:\n",
    "        one_q_ops += [Reset]\n",
    "\n",
    "    if seed is None:\n",
    "        seed = np.random.randint(0, np.iinfo(np.int32).max)\n",
    "    rng = np.random.RandomState(seed)\n",
    "\n",
    "    # apply arbitrary random operations at every depth\n",
    "    for _ in range(depth):\n",
    "        # choose either 1 or 2 qubits for the operation\n",
    "        remaining_qubits = list(range(n_qubits))\n",
    "        while remaining_qubits:\n",
    "            max_possible_operands = min(len(remaining_qubits), max_operands)\n",
    "            num_operands = rng.choice(range(max_possible_operands)) + 1\n",
    "            rng.shuffle(remaining_qubits)\n",
    "            operands = remaining_qubits[:num_operands]\n",
    "            remaining_qubits = [q for q in remaining_qubits if q not in operands]\n",
    "            if num_operands == 1:\n",
    "                operation = rng.choice(one_q_ops)\n",
    "            elif num_operands == 2:\n",
    "                operation = MSGate\n",
    "            if operation in one_param:\n",
    "                num_angles = 1\n",
    "            elif operation in two_param:\n",
    "                num_angles = 2\n",
    "            else:\n",
    "                num_angles = 0\n",
    "            angles = [rng.uniform(-1, 1) for x in range(num_angles)]\n",
    "            register_operands = [qr[i] for i in operands]\n",
    "            op = operation(*angles)\n",
    "\n",
    "            # with some low probability, condition on classical bit values\n",
    "            if conditional and rng.choice(range(10)) == 0:\n",
    "                value = rng.randint(0, np.power(2, n_qubits))\n",
    "                op.condition = (cr, value)\n",
    "\n",
    "            qc.append(op, register_operands)\n",
    "\n",
    "    if measure:\n",
    "        qc.measure(qr, cr)\n",
    "\n",
    "    return qc"
   ]
  },
  {
   "cell_type": "code",
   "execution_count": null,
   "metadata": {},
   "outputs": [],
   "source": [
    "native_rand_circ = ionq_native_random_circuit(3, 6)"
   ]
  },
  {
   "cell_type": "code",
   "execution_count": null,
   "metadata": {},
   "outputs": [],
   "source": [
    "native_rand_circ.draw(output = 'mpl')"
   ]
  },
  {
   "cell_type": "code",
   "execution_count": null,
   "metadata": {},
   "outputs": [],
   "source": [
    "start_time = time.time()\n",
    "print(\"Start time: \", time.ctime(start_time))\n",
    "native_results = backend_qpu.run(native_rand_circ, shots=4096).result()\n",
    "end_time = time.time()\n",
    "print(\"End time: \", time.ctime(end_time))"
   ]
  },
  {
   "cell_type": "code",
   "execution_count": null,
   "metadata": {},
   "outputs": [],
   "source": [
    "print(native_results.get_counts())"
   ]
  },
  {
   "cell_type": "code",
   "execution_count": null,
   "metadata": {},
   "outputs": [],
   "source": [
    "native_results_sim = backend_simq.run(native_rand_circ, shots=4096).result()"
   ]
  },
  {
   "cell_type": "code",
   "execution_count": null,
   "metadata": {},
   "outputs": [],
   "source": [
    "print(native_results_sim.get_counts())"
   ]
  },
  {
   "cell_type": "code",
   "execution_count": null,
   "metadata": {
    "scrolled": true
   },
   "outputs": [],
   "source": [
    "noisy_native, mit_native = simple_error_mitigation(native_rand_circ, shots=4096, backend = backend_qpu, gates = 'native')"
   ]
  },
  {
   "cell_type": "code",
   "execution_count": null,
   "metadata": {},
   "outputs": [],
   "source": [
    "cal_results_copy = native_results_sim\n",
    "bin_int = 0\n",
    "cal_results = {}\n",
    "for key in cal_results_copy.get_counts():\n",
    "    if(bin_int == 0):\n",
    "        cal_results[key] = shots\n",
    "        bin_int += 1\n",
    "    else:\n",
    "        cal_results[key] = 0"
   ]
  },
  {
   "cell_type": "code",
   "execution_count": null,
   "metadata": {},
   "outputs": [],
   "source": [
    "print(cal_results)"
   ]
  },
  {
   "cell_type": "code",
   "execution_count": null,
   "metadata": {},
   "outputs": [],
   "source": [
    "native_rand_circ_copy = native_rand_circ.copy()"
   ]
  },
  {
   "cell_type": "code",
   "execution_count": null,
   "metadata": {},
   "outputs": [],
   "source": [
    "native_rand_circ_copy.measure_all()"
   ]
  },
  {
   "cell_type": "code",
   "execution_count": null,
   "metadata": {},
   "outputs": [],
   "source": [
    "cal_run = [0] * 2 ** qn\n",
    "\n",
    "qcs = gen_native_calib_circs(qn)\n",
    "\n",
    "for i in range(1, 2**(qn)):\n",
    "    start_time = time.time()\n",
    "    print(\"Start time for running calib circ\", i, \": \",time.ctime(start_time))\n",
    "    cal_run[i] = backend_qpu.run(qcs[i], shots=4096)\n",
    "    end_time = time.time()\n",
    "    print(\"End time for running calib circ\", i, \": \", time.ctime(end_time))\n",
    "            "
   ]
  },
  {
   "cell_type": "code",
   "execution_count": null,
   "metadata": {},
   "outputs": [],
   "source": [
    "cal_results = [0] * 2 ** qn\n",
    "for i in range(1, 2**(qn)):\n",
    "    start_time = time.time()\n",
    "    print(\"Start time for running calib circ\", i, \": \",time.ctime(start_time))\n",
    "    cal_results[i] = cal_run[i].result()\n",
    "    end_time = time.time()\n",
    "    print(\"End time for running calib circ\", i, \": \", time.ctime(end_time))"
   ]
  },
  {
   "cell_type": "code",
   "execution_count": null,
   "metadata": {},
   "outputs": [],
   "source": [
    "noisy_counts = backend_qpu.run(native_rand_circ_copy, shots=4096).result().get_counts()"
   ]
  },
  {
   "cell_type": "code",
   "execution_count": null,
   "metadata": {},
   "outputs": [],
   "source": [
    "cal_results[0] = backend_simq.run(qcs[0], shots = 1000).result()"
   ]
  },
  {
   "cell_type": "code",
   "execution_count": null,
   "metadata": {},
   "outputs": [],
   "source": [
    "cal_results_copy = native_results_sim\n",
    "bin_int = 0\n",
    "cal_results[0] = {}\n",
    "for key in cal_results_copy.get_counts():\n",
    "    if(bin_int == 0):\n",
    "        cal_results[0].get_counts()[key] = shots\n",
    "        bin_int += 1\n",
    "    else:\n",
    "        cal_results[0][key] = 0"
   ]
  },
  {
   "cell_type": "code",
   "execution_count": null,
   "metadata": {},
   "outputs": [],
   "source": [
    "calib_counts_mat = [[0] * (2 ** qn)] * (2 ** qn)\n",
    "    \n",
    "calib_counts_mat[0] = [4096, 0, 0, 0, 0, 0, 0, 0]\n",
    "\n",
    "for i in range(1, len(calib_counts_mat)):\n",
    "    calib_counts_mat[i] = result_dict_to_arr(cal_results[i].get_counts())\n",
    "\n",
    "id_mat = np.identity(2**qn)\n",
    "normed_mat = normalize(calib_counts_mat, axis=1, norm='l1')\n",
    "calib_mat = np.linalg.lstsq(normed_mat, id_mat, rcond=0)[0]\n",
    "\n",
    "#noisy_counts = backend.run(circ, shots=shots).result().get_counts()\n",
    "noisy_counts_formatted = bin_form(noisy_counts, qn)\n",
    "noisy_mat = result_dict_to_arr(noisy_counts_formatted)\n",
    "\n",
    "mitigated_mat = np.dot(calib_mat, noisy_mat)\n",
    "mitigated_counts = count_arr_to_dict(mitigated_mat)\n",
    "mitigated_counts_formatted = bin_form(mitigated_counts, qn)\n",
    "\n",
    "print('Noisy Matrix:')\n",
    "array_to_latex(noisy_mat)\n",
    "\n",
    "print('Mitigated Matrix:')\n",
    "array_to_latex(mitigated_mat)\n",
    "\n"
   ]
  },
  {
   "cell_type": "code",
   "execution_count": null,
   "metadata": {},
   "outputs": [],
   "source": [
    "for i in range(len(calib_counts_mat)):\n",
    "    print(calib_counts_mat[i])"
   ]
  },
  {
   "cell_type": "code",
   "execution_count": null,
   "metadata": {},
   "outputs": [],
   "source": [
    "ideal_counts_formatted = native_results_sim.get_counts()"
   ]
  },
  {
   "cell_type": "code",
   "execution_count": null,
   "metadata": {},
   "outputs": [],
   "source": [
    "plot_histogram([noisy_counts_formatted, mitigated_counts_formatted, ideal_counts_formatted], legend=['noisy', 'mitigated', 'ideal'])"
   ]
  },
  {
   "cell_type": "code",
   "execution_count": null,
   "metadata": {},
   "outputs": [],
   "source": [
    "array_to_latex(noisy_mat)"
   ]
  },
  {
   "cell_type": "code",
   "execution_count": null,
   "metadata": {},
   "outputs": [],
   "source": [
    "noisy_native, mit_native, ideal_native = simple_error_mitigation(native_rand_circ, shots=4096, backend = backend_qpu, gates = 'native')"
   ]
  },
  {
   "cell_type": "code",
   "execution_count": null,
   "metadata": {},
   "outputs": [],
   "source": [
    "plot_histogram([noisy_native, mit_native, ideal_native], legend=['noisy', 'mitigated', 'ideal'])"
   ]
  },
  {
   "cell_type": "code",
   "execution_count": 28,
   "metadata": {},
   "outputs": [],
   "source": [
    "standard_rand_circ = modified_random_circuit(3, 25)\n"
   ]
  },
  {
   "cell_type": "code",
   "execution_count": 29,
   "metadata": {},
   "outputs": [
    {
     "data": {
      "image/png": "[encoded data removed]",
      "text/plain": [
       "<Figure size 1591.6x445.48 with 1 Axes>"
      ]
     },
     "execution_count": 29,
     "metadata": {},
     "output_type": "execute_result"
    }
   ],
   "source": [
    "standard_rand_circ.draw(output = 'mpl')"
   ]
  },
  {
   "cell_type": "code",
   "execution_count": 30,
   "metadata": {},
   "outputs": [],
   "source": [
    "first_half, second_half = general_error_mitigation_helper(standard_rand_circ)"
   ]
  },
  {
   "cell_type": "code",
   "execution_count": 39,
   "metadata": {},
   "outputs": [
    {
     "data": {
      "image/png": "[encoded data removed]",
      "text/plain": [
       "<Figure size 1621.88x565.88 with 1 Axes>"
      ]
     },
     "execution_count": 39,
     "metadata": {},
     "output_type": "execute_result"
    }
   ],
   "source": [
    "first_half[0].draw(output = 'mpl')"
   ]
  },
  {
   "cell_type": "code",
   "execution_count": 36,
   "metadata": {},
   "outputs": [],
   "source": [
    "qc = standard_rand_circ\n",
    "shots = 4096"
   ]
  },
  {
   "cell_type": "code",
   "execution_count": 37,
   "metadata": {},
   "outputs": [
    {
     "name": "stdout",
     "output_type": "stream",
     "text": [
      "Start time for calibration matrices:  Tue Jul 19 11:00:13 2022\n",
      "End time:  Tue Jul 19 11:00:18 2022\n"
     ]
    }
   ],
   "source": [
    "calib_run_1 = [0] * 2 ** qn\n",
    "calib_run_2 = [0] * 2 ** qn\n",
    "calib_results_1 = [0] * 2 ** qn\n",
    "calib_results_2 = [0] * 2 ** qn\n",
    "\n",
    "start_time = time.time()\n",
    "print(\"Start time for calibration matrices: \", time.ctime(start_time))\n",
    "for i in range(2**(qn)):\n",
    "        calib_run_1[i] = backend_qpu.run(first_half[i], shots=shots)\n",
    "        calib_run_2[i] = backend_qpu.run(second_half[i], shots=shots)\n",
    "\n",
    "end_time = time.time()\n",
    "print(\"End time: \", time.ctime(end_time))\n",
    "\n",
    "noisy_gem_run = backend_qpu.run(qc, shots=shots)"
   ]
  },
  {
   "cell_type": "code",
   "execution_count": 34,
   "metadata": {
    "scrolled": true
   },
   "outputs": [
    {
     "name": "stdout",
     "output_type": "stream",
     "text": [
      "Start time for running calib circ 1. 0 :  Mon Jul 18 23:46:19 2022\n",
      "End time for running calib circ 0 :  Mon Jul 18 23:49:31 2022\n",
      "Start time for running calib circ 2. 0 :  Mon Jul 18 23:49:31 2022\n"
     ]
    },
    {
     "ename": "KeyboardInterrupt",
     "evalue": "",
     "output_type": "error",
     "traceback": [
      "\u001b[1;31m---------------------------------------------------------------------------\u001b[0m",
      "\u001b[1;31mKeyboardInterrupt\u001b[0m                         Traceback (most recent call last)",
      "Input \u001b[1;32mIn [34]\u001b[0m, in \u001b[0;36m<cell line: 1>\u001b[1;34m()\u001b[0m\n\u001b[0;32m      7\u001b[0m start_time \u001b[38;5;241m=\u001b[39m time\u001b[38;5;241m.\u001b[39mtime()\n\u001b[0;32m      8\u001b[0m \u001b[38;5;28mprint\u001b[39m(\u001b[38;5;124m\"\u001b[39m\u001b[38;5;124mStart time for running calib circ 2.\u001b[39m\u001b[38;5;124m\"\u001b[39m, i, \u001b[38;5;124m\"\u001b[39m\u001b[38;5;124m: \u001b[39m\u001b[38;5;124m\"\u001b[39m,time\u001b[38;5;241m.\u001b[39mctime(start_time))\n\u001b[1;32m----> 9\u001b[0m calib_results_2[i] \u001b[38;5;241m=\u001b[39m \u001b[43mcalib_run_2\u001b[49m\u001b[43m[\u001b[49m\u001b[43mi\u001b[49m\u001b[43m]\u001b[49m\u001b[38;5;241;43m.\u001b[39;49m\u001b[43mresult\u001b[49m\u001b[43m(\u001b[49m\u001b[43m)\u001b[49m\n\u001b[0;32m     10\u001b[0m end_time \u001b[38;5;241m=\u001b[39m time\u001b[38;5;241m.\u001b[39mtime()\n\u001b[0;32m     11\u001b[0m \u001b[38;5;28mprint\u001b[39m(\u001b[38;5;124m\"\u001b[39m\u001b[38;5;124mEnd time for running calib circ\u001b[39m\u001b[38;5;124m\"\u001b[39m, i, \u001b[38;5;124m\"\u001b[39m\u001b[38;5;124m: \u001b[39m\u001b[38;5;124m\"\u001b[39m, time\u001b[38;5;241m.\u001b[39mctime(end_time))\n",
      "File \u001b[1;32m~\\anaconda3\\envs\\qiskit_env\\lib\\site-packages\\qiskit_ionq\\ionq_job.py:259\u001b[0m, in \u001b[0;36mIonQJob.result\u001b[1;34m(self)\u001b[0m\n\u001b[0;32m    257\u001b[0m \u001b[38;5;66;03m# Wait for the job to complete.\u001b[39;00m\n\u001b[0;32m    258\u001b[0m \u001b[38;5;28;01mtry\u001b[39;00m:\n\u001b[1;32m--> 259\u001b[0m     \u001b[38;5;28;43mself\u001b[39;49m\u001b[38;5;241;43m.\u001b[39;49m\u001b[43mwait_for_final_state\u001b[49m\u001b[43m(\u001b[49m\u001b[43m)\u001b[49m\n\u001b[0;32m    260\u001b[0m \u001b[38;5;28;01mexcept\u001b[39;00m JobTimeoutError \u001b[38;5;28;01mas\u001b[39;00m ex:\n\u001b[0;32m    261\u001b[0m     \u001b[38;5;28;01mraise\u001b[39;00m exceptions\u001b[38;5;241m.\u001b[39mIonQJobTimeoutError(\n\u001b[0;32m    262\u001b[0m         \u001b[38;5;124m\"\u001b[39m\u001b[38;5;124mTimed out waiting for job to complete.\u001b[39m\u001b[38;5;124m\"\u001b[39m\n\u001b[0;32m    263\u001b[0m     ) \u001b[38;5;28;01mfrom\u001b[39;00m \u001b[38;5;21;01mex\u001b[39;00m\n",
      "File \u001b[1;32m~\\anaconda3\\envs\\qiskit_env\\lib\\site-packages\\qiskit\\providers\\job.py:118\u001b[0m, in \u001b[0;36mJobV1.wait_for_final_state\u001b[1;34m(self, timeout, wait, callback)\u001b[0m\n\u001b[0;32m    116\u001b[0m     \u001b[38;5;28;01mif\u001b[39;00m callback:\n\u001b[0;32m    117\u001b[0m         callback(\u001b[38;5;28mself\u001b[39m\u001b[38;5;241m.\u001b[39mjob_id(), status, \u001b[38;5;28mself\u001b[39m)\n\u001b[1;32m--> 118\u001b[0m     \u001b[43mtime\u001b[49m\u001b[38;5;241;43m.\u001b[39;49m\u001b[43msleep\u001b[49m\u001b[43m(\u001b[49m\u001b[43mwait\u001b[49m\u001b[43m)\u001b[49m\n\u001b[0;32m    119\u001b[0m     status \u001b[38;5;241m=\u001b[39m \u001b[38;5;28mself\u001b[39m\u001b[38;5;241m.\u001b[39mstatus()\n\u001b[0;32m    120\u001b[0m \u001b[38;5;28;01mreturn\u001b[39;00m\n",
      "\u001b[1;31mKeyboardInterrupt\u001b[0m: "
     ]
    }
   ],
   "source": [
    "for i in range(2 ** qn):\n",
    "    start_time = time.time()\n",
    "    print(\"Start time for running calib circ 1.\", i, \": \",time.ctime(start_time))\n",
    "    calib_results_1[i] = calib_run_1[i].result()\n",
    "    end_time = time.time()\n",
    "    print(\"End time for running calib circ\", i, \": \", time.ctime(end_time))\n",
    "    start_time = time.time()\n",
    "    print(\"Start time for running calib circ 2.\", i, \": \",time.ctime(start_time))\n",
    "    calib_results_2[i] = calib_run_2[i].result()\n",
    "    end_time = time.time()\n",
    "    print(\"End time for running calib circ\", i, \": \", time.ctime(end_time))\n",
    "    \n",
    "\n",
    "noisy_gem = noisy_gem_run.result()"
   ]
  },
  {
   "cell_type": "code",
   "execution_count": 38,
   "metadata": {},
   "outputs": [
    {
     "name": "stdout",
     "output_type": "stream",
     "text": [
      "Start time for running calib circ 1. 0 :  Tue Jul 19 11:00:13 2022\n"
     ]
    },
    {
     "ename": "KeyboardInterrupt",
     "evalue": "",
     "output_type": "error",
     "traceback": [
      "\u001b[1;31m---------------------------------------------------------------------------\u001b[0m",
      "\u001b[1;31mKeyboardInterrupt\u001b[0m                         Traceback (most recent call last)",
      "Input \u001b[1;32mIn [38]\u001b[0m, in \u001b[0;36m<cell line: 3>\u001b[1;34m()\u001b[0m\n\u001b[0;32m      1\u001b[0m i \u001b[38;5;241m=\u001b[39m \u001b[38;5;241m0\u001b[39m \n\u001b[0;32m      2\u001b[0m \u001b[38;5;28mprint\u001b[39m(\u001b[38;5;124m\"\u001b[39m\u001b[38;5;124mStart time for running calib circ 1.\u001b[39m\u001b[38;5;124m\"\u001b[39m,i, \u001b[38;5;124m\"\u001b[39m\u001b[38;5;124m: \u001b[39m\u001b[38;5;124m\"\u001b[39m,time\u001b[38;5;241m.\u001b[39mctime(start_time))\n\u001b[1;32m----> 3\u001b[0m calib_results_1[i] \u001b[38;5;241m=\u001b[39m \u001b[43mcalib_run_1\u001b[49m\u001b[43m[\u001b[49m\u001b[43mi\u001b[49m\u001b[43m]\u001b[49m\u001b[38;5;241;43m.\u001b[39;49m\u001b[43mresult\u001b[49m\u001b[43m(\u001b[49m\u001b[43m)\u001b[49m\n\u001b[0;32m      4\u001b[0m end_time \u001b[38;5;241m=\u001b[39m time\u001b[38;5;241m.\u001b[39mtime()\n\u001b[0;32m      5\u001b[0m \u001b[38;5;28mprint\u001b[39m(\u001b[38;5;124m\"\u001b[39m\u001b[38;5;124mEnd time for running calib circ\u001b[39m\u001b[38;5;124m\"\u001b[39m, i, \u001b[38;5;124m\"\u001b[39m\u001b[38;5;124m: \u001b[39m\u001b[38;5;124m\"\u001b[39m, time\u001b[38;5;241m.\u001b[39mctime(end_time))\n",
      "File \u001b[1;32m~\\anaconda3\\envs\\qiskit_env\\lib\\site-packages\\qiskit_ionq\\ionq_job.py:259\u001b[0m, in \u001b[0;36mIonQJob.result\u001b[1;34m(self)\u001b[0m\n\u001b[0;32m    257\u001b[0m \u001b[38;5;66;03m# Wait for the job to complete.\u001b[39;00m\n\u001b[0;32m    258\u001b[0m \u001b[38;5;28;01mtry\u001b[39;00m:\n\u001b[1;32m--> 259\u001b[0m     \u001b[38;5;28;43mself\u001b[39;49m\u001b[38;5;241;43m.\u001b[39;49m\u001b[43mwait_for_final_state\u001b[49m\u001b[43m(\u001b[49m\u001b[43m)\u001b[49m\n\u001b[0;32m    260\u001b[0m \u001b[38;5;28;01mexcept\u001b[39;00m JobTimeoutError \u001b[38;5;28;01mas\u001b[39;00m ex:\n\u001b[0;32m    261\u001b[0m     \u001b[38;5;28;01mraise\u001b[39;00m exceptions\u001b[38;5;241m.\u001b[39mIonQJobTimeoutError(\n\u001b[0;32m    262\u001b[0m         \u001b[38;5;124m\"\u001b[39m\u001b[38;5;124mTimed out waiting for job to complete.\u001b[39m\u001b[38;5;124m\"\u001b[39m\n\u001b[0;32m    263\u001b[0m     ) \u001b[38;5;28;01mfrom\u001b[39;00m \u001b[38;5;21;01mex\u001b[39;00m\n",
      "File \u001b[1;32m~\\anaconda3\\envs\\qiskit_env\\lib\\site-packages\\qiskit\\providers\\job.py:118\u001b[0m, in \u001b[0;36mJobV1.wait_for_final_state\u001b[1;34m(self, timeout, wait, callback)\u001b[0m\n\u001b[0;32m    116\u001b[0m     \u001b[38;5;28;01mif\u001b[39;00m callback:\n\u001b[0;32m    117\u001b[0m         callback(\u001b[38;5;28mself\u001b[39m\u001b[38;5;241m.\u001b[39mjob_id(), status, \u001b[38;5;28mself\u001b[39m)\n\u001b[1;32m--> 118\u001b[0m     \u001b[43mtime\u001b[49m\u001b[38;5;241;43m.\u001b[39;49m\u001b[43msleep\u001b[49m\u001b[43m(\u001b[49m\u001b[43mwait\u001b[49m\u001b[43m)\u001b[49m\n\u001b[0;32m    119\u001b[0m     status \u001b[38;5;241m=\u001b[39m \u001b[38;5;28mself\u001b[39m\u001b[38;5;241m.\u001b[39mstatus()\n\u001b[0;32m    120\u001b[0m \u001b[38;5;28;01mreturn\u001b[39;00m\n",
      "\u001b[1;31mKeyboardInterrupt\u001b[0m: "
     ]
    }
   ],
   "source": [
    "i = 0 \n",
    "print(\"Start time for running calib circ 1.\",i, \": \",time.ctime(start_time))\n",
    "calib_results_1[i] = calib_run_1[i].result()\n",
    "end_time = time.time()\n",
    "print(\"End time for running calib circ\", i, \": \", time.ctime(end_time))\n",
    "start_time = time.time()\n",
    "print(\"Start time for running calib circ 2.\", i, \": \",time.ctime(start_time))\n",
    "calib_results_2[i] = calib_run_2[i].result()\n",
    "end_time = time.time()\n",
    "print(\"End time for running calib circ\", i, \": \", time.ctime(end_time))"
   ]
  },
  {
   "cell_type": "code",
   "execution_count": null,
   "metadata": {},
   "outputs": [],
   "source": [
    "i = 1\n",
    "print(\"Start time for running calib circ 1.\", i, \": \",time.ctime(start_time))\n",
    "calib_results_1[i] = calib_run_1[i].result()\n",
    "end_time = time.time()\n",
    "print(\"End time for running calib circ\", i, \": \", time.ctime(end_time))\n",
    "start_time = time.time()\n",
    "print(\"Start time for running calib circ 2.\", i, \": \",time.ctime(start_time))\n",
    "calib_results_2[i] = calib_run_2[i].result()\n",
    "end_time = time.time()\n",
    "print(\"End time for running calib circ\", i, \": \", time.ctime(end_time))"
   ]
  },
  {
   "cell_type": "code",
   "execution_count": null,
   "metadata": {},
   "outputs": [],
   "source": [
    "i =2 \n",
    "print(\"Start time for running calib circ 1.\", i, \": \",time.ctime(start_time))\n",
    "calib_results_1[i] = calib_run_1[i].result()\n",
    "end_time = time.time()\n",
    "print(\"End time for running calib circ\", i, \": \", time.ctime(end_time))\n",
    "start_time = time.time()\n",
    "print(\"Start time for running calib circ 2.\", i, \": \",time.ctime(start_time))\n",
    "calib_results_2[i] = calib_run_2[i].result()\n",
    "end_time = time.time()\n",
    "print(\"End time for running calib circ\", i, \": \", time.ctime(end_time))"
   ]
  },
  {
   "cell_type": "code",
   "execution_count": null,
   "metadata": {},
   "outputs": [],
   "source": [
    "i = 3\n",
    "print(\"Start time for running calib circ 1.\", i, \": \",time.ctime(start_time))\n",
    "calib_results_1[i] = calib_run_1[i].result()\n",
    "end_time = time.time()\n",
    "print(\"End time for running calib circ\", i, \": \", time.ctime(end_time))\n",
    "start_time = time.time()\n",
    "print(\"Start time for running calib circ 2.\", i, \": \",time.ctime(start_time))\n",
    "calib_results_2[i] = calib_run_2[i].result()\n",
    "end_time = time.time()\n",
    "print(\"End time for running calib circ\", i, \": \", time.ctime(end_time))"
   ]
  },
  {
   "cell_type": "code",
   "execution_count": null,
   "metadata": {},
   "outputs": [],
   "source": [
    "i = 4 \n",
    "print(\"Start time for running calib circ 1.\", i, \": \",time.ctime(start_time))\n",
    "calib_results_1[i] = calib_run_1[i].result()\n",
    "end_time = time.time()\n",
    "print(\"End time for running calib circ\", i, \": \", time.ctime(end_time))\n",
    "start_time = time.time()\n",
    "print(\"Start time for running calib circ 2.\", i, \": \",time.ctime(start_time))\n",
    "calib_results_2[i] = calib_run_2[i].result()\n",
    "end_time = time.time()\n",
    "print(\"End time for running calib circ\", i, \": \", time.ctime(end_time))"
   ]
  },
  {
   "cell_type": "code",
   "execution_count": null,
   "metadata": {},
   "outputs": [],
   "source": [
    "i = 5 \n",
    "print(\"Start time for running calib circ 1.\", i, \": \",time.ctime(start_time))\n",
    "calib_results_1[i] = calib_run_1[i].result()\n",
    "end_time = time.time()\n",
    "print(\"End time for running calib circ\", i, \": \", time.ctime(end_time))\n",
    "start_time = time.time()\n",
    "print(\"Start time for running calib circ 2.\", i, \": \",time.ctime(start_time))\n",
    "calib_results_2[i] = calib_run_2[i].result()\n",
    "end_time = time.time()\n",
    "print(\"End time for running calib circ\", i, \": \", time.ctime(end_time))"
   ]
  },
  {
   "cell_type": "code",
   "execution_count": null,
   "metadata": {},
   "outputs": [],
   "source": [
    "i = 6 \n",
    "print(\"Start time for running calib circ 1.\", i, \": \",time.ctime(start_time))\n",
    "calib_results_1[i] = calib_run_1[i].result()\n",
    "end_time = time.time()\n",
    "print(\"End time for running calib circ\", i, \": \", time.ctime(end_time))\n",
    "start_time = time.time()\n",
    "print(\"Start time for running calib circ 2.\", i, \": \",time.ctime(start_time))\n",
    "calib_results_2[i] = calib_run_2[i].result()\n",
    "end_time = time.time()\n",
    "print(\"End time for running calib circ\", i, \": \", time.ctime(end_time))"
   ]
  },
  {
   "cell_type": "code",
   "execution_count": null,
   "metadata": {},
   "outputs": [],
   "source": [
    "i = 7\n",
    "print(\"Start time for running calib circ 1.\", i, \": \",time.ctime(start_time))\n",
    "calib_results_1[i] = calib_run_1[i].result()\n",
    "end_time = time.time()\n",
    "print(\"End time for running calib circ\", i, \": \", time.ctime(end_time))\n",
    "start_time = time.time()\n",
    "print(\"Start time for running calib circ 2.\", i, \": \",time.ctime(start_time))\n",
    "calib_results_2[i] = calib_run_2[i].result()\n",
    "end_time = time.time()\n",
    "print(\"End time for running calib circ\", i, \": \", time.ctime(end_time))"
   ]
  },
  {
   "cell_type": "code",
   "execution_count": null,
   "metadata": {},
   "outputs": [],
   "source": [
    "noisy_gem = noisy_gem_run.result()"
   ]
  },
  {
   "cell_type": "code",
   "execution_count": null,
   "metadata": {},
   "outputs": [],
   "source": []
  }
 ],
 "metadata": {
  "kernelspec": {
   "display_name": "Python 3",
   "language": "python",
   "name": "python3"
  },
  "language_info": {
   "codemirror_mode": {
    "name": "ipython",
    "version": 3
   },
   "file_extension": ".py",
   "mimetype": "text/x-python",
   "name": "python",
   "nbconvert_exporter": "python",
   "pygments_lexer": "ipython3",
   "version": "3.7.4"
  }
 },
 "nbformat": 4,
 "nbformat_minor": 5
}
