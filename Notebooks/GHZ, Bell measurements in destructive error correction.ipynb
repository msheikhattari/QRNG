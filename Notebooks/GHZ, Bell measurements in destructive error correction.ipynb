{
 "cells": [
  {
   "cell_type": "code",
   "execution_count": 7,
   "id": "b3f25024",
   "metadata": {},
   "outputs": [
    {
     "name": "stdout",
     "output_type": "stream",
     "text": [
      "[<IonQSimulatorBackend('ionq_simulator')>, <IonQQPUBackend('ionq_qpu')>]\n"
     ]
    }
   ],
   "source": [
    "import os\n",
    "ionq_token=os.getenv('IONQ_API_TOKEN')\n",
    "from qiskit_ionq import IonQProvider\n",
    "from threading import Thread\n",
    "from qiskit import QuantumCircuit\n",
    "#from qiskit import Aer\n",
    "#aer_sim = Aer.get_backend('qasm_simulator') \n",
    "provider = IonQProvider(ionq_token)\n",
    "\n",
    "# show supported backends\n",
    "print(provider.backends()) \n",
    "\n",
    "# create backends for simulator and hardware\n",
    "backend_simq = provider.get_backend(\"ionq_simulator\")\n",
    "backend_qpu = provider.get_backend(\"ionq_qpu\")"
   ]
  },
  {
   "cell_type": "code",
   "execution_count": 5,
   "id": "adc611e9",
   "metadata": {},
   "outputs": [],
   "source": [
    "#n_qubit analogue of bell/ghz state\n",
    "#we will be running on simulator for now as proof of concept\n",
    "def n_qubit(qubits, shots_needed):\n",
    "    qc = QuantumCircuit(qubits, qubits)\n",
    "    qc.h(0)\n",
    "    arr = [0]\n",
    "    \n",
    "    for i in range(qubits - 1):\n",
    "        qc.cx(i, i + 1)\n",
    "        arr.append(i + 1)\n",
    "           \n",
    "    qc.measure(arr,arr) \n",
    "    \n",
    "    #Run circuit and get counts\n",
    "    qpu_job = backend_sim1.run(qc, shots = shots_needed)\n",
    "    counts = qpu_job.get_counts()\n",
    "    print(counts)"
   ]
  },
  {
   "cell_type": "code",
   "execution_count": null,
   "id": "9b150b61",
   "metadata": {},
   "outputs": [],
   "source": [
    "#let's first generate 2^20 bits and analyze the statistical properties\n",
    "#I picked this number since its roughly over the threshold needed to perform all of the tests. \n",
    "\n",
    "qc1 = QuantumCircuit(1, 1)\n",
    "qc1.h(0)\n",
    "qc1.measure([0],[0])\n",
    "\n",
    "byte = []\n",
    "\n",
    "for i in range(8):\n",
    "    job_bit = backend_simq.run(qc1, shots = 1)\n",
    "    byte.append(job_bit.get_counts.keys()[0])\n",
    "    \n",
    "print(byte)"
   ]
  },
  {
   "cell_type": "code",
   "execution_count": null,
   "id": "2d7ae24f",
   "metadata": {},
   "outputs": [],
   "source": []
  }
 ],
 "metadata": {
  "kernelspec": {
   "display_name": "Python 3 (ipykernel)",
   "language": "python",
   "name": "python3"
  },
  "language_info": {
   "codemirror_mode": {
    "name": "ipython",
    "version": 3
   },
   "file_extension": ".py",
   "mimetype": "text/x-python",
   "name": "python",
   "nbconvert_exporter": "python",
   "pygments_lexer": "ipython3",
   "version": "3.10.6"
  }
 },
 "nbformat": 4,
 "nbformat_minor": 5
}
