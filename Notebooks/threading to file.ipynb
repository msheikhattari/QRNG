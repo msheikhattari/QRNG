{
 "cells": [
  {
   "cell_type": "code",
   "execution_count": 10,
   "metadata": {},
   "outputs": [
    {
     "name": "stdout",
     "output_type": "stream",
     "text": [
      "[<IonQSimulatorBackend('ionq_simulator')>, <IonQQPUBackend('ionq_qpu')>]\n"
     ]
    }
   ],
   "source": [
    "# create bankend for Qiskit's AER (QSAM simulator)\n",
    "from qiskit import Aer\n",
    "aer_sim = Aer.get_backend('qasm_simulator')\n",
    "import os\n",
    "import threading\n",
    "ionq_token=\"LAYq6EwdvXqh4sIma2iKZNQ2l7KzbxX6\"\n",
    "from qiskit_ionq import IonQProvider\n",
    "from qiskit import QuantumCircuit, execute\n",
    "from threading import Thread, Lock\n",
    "provider = IonQProvider(ionq_token)\n",
    "\n",
    "# show supported backends\n",
    "print(provider.backends()) \n",
    "\n",
    "# create backends for simulator and hardware\n",
    "backend_sim = provider.get_backend(\"ionq_simulator\")\n",
    "backend_qpu = provider.get_backend(\"ionq_qpu\")\n",
    "\n"
   ]
  },
  {
   "cell_type": "code",
   "execution_count": 5,
   "metadata": {},
   "outputs": [
    {
     "data": {
      "image/png": "[encoded data removed]",
      "text/plain": [
       "<Figure size 193.726x144.48 with 1 Axes>"
      ]
     },
     "execution_count": 5,
     "metadata": {},
     "output_type": "execute_result"
    }
   ],
   "source": [
    "from qiskit import QuantumCircuit\n",
    "\n",
    "qc = QuantumCircuit(1,1)\n",
    "qc.h(0)\n",
    "qc.measure(0,0)\n",
    "\n",
    "qc.draw(output='mpl')"
   ]
  },
  {
   "cell_type": "code",
   "execution_count": 52,
   "metadata": {},
   "outputs": [],
   "source": [
    "#generates 100 million bits, storing the memory in order to preserve the distribution of the numbers\n",
    "def gen_100M(filename):\n",
    "    job = execute(qc, backend = aer_sim, shots = 100000000, memory = True)\n",
    "    results = job.result()\n",
    "    memory = results.get_memory(qc)\n",
    "    \n",
    "    #Now adding the measurement results to a .txt file\n",
    "    bits = open(filename, \"w\")\n",
    "    \n",
    "    for bit in memory:\n",
    "        bits.write(str(bit))\n",
    "    \n",
    "    print(\"Number of bits generated:\",len(memory))\n",
    "    print(\"Memory saved to:\", filename)\n",
    "    \n",
    "    "
   ]
  },
  {
   "cell_type": "code",
   "execution_count": 53,
   "metadata": {},
   "outputs": [
    {
     "name": "stdout",
     "output_type": "stream",
     "text": [
      "Number of bits generated: 100000000\n",
      "Memory saved to: non_threaded.txt\n"
     ]
    }
   ],
   "source": [
    "import time\n",
    "\n",
    "start = time.time()\n",
    "gen_100M(\"non_threaded.txt\")\n",
    "t_no_thread = time.time() - start"
   ]
  },
  {
   "cell_type": "code",
   "execution_count": 54,
   "metadata": {},
   "outputs": [
    {
     "name": "stdout",
     "output_type": "stream",
     "text": [
      "Time to generate 100M bits using 100M shots: 583.348198890686 seconds\n"
     ]
    }
   ],
   "source": [
    "print(f\"Time to generate 100M bits using 100M shots: {t_no_thread} seconds\")"
   ]
  },
  {
   "cell_type": "code",
   "execution_count": 55,
   "metadata": {},
   "outputs": [],
   "source": [
    "#Now we can introduce threading. We first need to make a modification to our function. We add a lock to prevent a data\n",
    "#race as the threads have a globally shared filed they are outputting to. We reduce the shots by 1/10 and have 10 \n",
    "#threads so the same number of bits are generated through each method.\n",
    "lock = Lock()\n",
    "\n",
    "def gen_10M():\n",
    "    job = execute(qc, backend = aer_sim, shots = 10000000, memory = True)\n",
    "    results = job.result()\n",
    "    memory = results.get_memory(qc)\n",
    "    \n",
    "    #Now adding the measurement result to a .txt file (using lock now)\n",
    "    lock.acquire()\n",
    "    bits = open(\"threaded.txt\", \"a\")\n",
    "    \n",
    "    for bit in memory:\n",
    "        bits.write(str(bit))\n",
    "    \n",
    "    lock.release()"
   ]
  },
  {
   "cell_type": "code",
   "execution_count": 56,
   "metadata": {},
   "outputs": [
    {
     "name": "stdout",
     "output_type": "stream",
     "text": [
      "Time to generate 100M bits using 10 threads at 10M shots each: 556.7549278736115 seconds\n"
     ]
    }
   ],
   "source": [
    "import time\n",
    "\n",
    "start = time.time()\n",
    "\n",
    "t1 = Thread(target = gen_10M)\n",
    "t2 = Thread(target = gen_10M)\n",
    "t3 = Thread(target = gen_10M)\n",
    "t4 = Thread(target = gen_10M)\n",
    "t5 = Thread(target = gen_10M)\n",
    "t6 = Thread(target = gen_10M)\n",
    "t7 = Thread(target = gen_10M)\n",
    "t8 = Thread(target = gen_10M)\n",
    "t9 = Thread(target = gen_10M)\n",
    "t10 = Thread(target = gen_10M)\n",
    "\n",
    "t1.start()\n",
    "t2.start()\n",
    "t3.start()\n",
    "t4.start()\n",
    "t5.start()\n",
    "t6.start()\n",
    "t7.start()\n",
    "t8.start()\n",
    "t9.start()\n",
    "t10.start()\n",
    "\n",
    "t1.join()\n",
    "t2.join()\n",
    "t3.join()\n",
    "t4.join()\n",
    "t5.join()\n",
    "t6.join()\n",
    "t7.join()\n",
    "t8.join()\n",
    "t9.join()\n",
    "t10.join()\n",
    "\n",
    "duration = time.time() - start\n",
    "\n",
    "print(f\"Time to generate 100M bits using 10 threads at 10M shots each: {duration} seconds\")"
   ]
  },
  {
   "cell_type": "code",
   "execution_count": 122,
   "metadata": {},
   "outputs": [],
   "source": [
    "import os\n",
    "from array import *\n",
    "\n",
    "#generates n bytes, storing the memory in order to preserve the distribution of the numbers\n",
    "def gen_n_bytes(filename, bytes):\n",
    "    job = execute(qc, backend = aer_sim, shots = 8*bytes, memory = True)\n",
    "    results = job.result()\n",
    "    memory = results.get_memory(qc)\n",
    "    \n",
    "    bin_array = array('B')\n",
    "    \n",
    "    for i in range(bytes):\n",
    "        bitstring = ''.join(map(str, memory[i:i+8])) \n",
    "        bin_array.append(int(bitstring,2))\n",
    "    \n",
    "    #Now adding the measurement results to a .txt file\n",
    "    bits = open(filename, \"wb\")\n",
    "    \n",
    "    bin_array.tofile(bits)"
   ]
  },
  {
   "cell_type": "code",
   "execution_count": 125,
   "metadata": {},
   "outputs": [],
   "source": [
    "gen_n_bytes(\"test.bin\", 1000)"
   ]
  },
  {
   "cell_type": "code",
   "execution_count": 106,
   "metadata": {},
   "outputs": [],
   "source": [
    "import os\n",
    "from array import *\n",
    "\n",
    "bits = open(\"test426.bin\", \"wb\")\n",
    "\n",
    "bitstring = '00000001'\n",
    "bin_array_in = array('B')\n",
    "\n",
    "bin_array_in.append(int(bitstring,2))\n",
    "\n",
    "\n",
    "bin_array_in.tofile(bits)\n",
    "\n",
    "\n",
    "bits.close()"
   ]
  },
  {
   "cell_type": "code",
   "execution_count": 96,
   "metadata": {},
   "outputs": [
    {
     "name": "stdout",
     "output_type": "stream",
     "text": [
      "bytearray(b'0')\n"
     ]
    }
   ],
   "source": [
    "print(bytearray(b'0'))"
   ]
  },
  {
   "cell_type": "code",
   "execution_count": null,
   "metadata": {},
   "outputs": [],
   "source": []
  }
 ],
 "metadata": {
  "kernelspec": {
   "display_name": "Python 3",
   "language": "python",
   "name": "python3"
  },
  "language_info": {
   "codemirror_mode": {
    "name": "ipython",
    "version": 3
   },
   "file_extension": ".py",
   "mimetype": "text/x-python",
   "name": "python",
   "nbconvert_exporter": "python",
   "pygments_lexer": "ipython3",
   "version": "3.7.4"
  }
 },
 "nbformat": 4,
 "nbformat_minor": 4
}
