{
 "cells": [
  {
   "cell_type": "code",
   "execution_count": 2,
   "metadata": {},
   "outputs": [
    {
     "name": "stdout",
     "output_type": "stream",
     "text": [
      "[<IonQSimulatorBackend('ionq_simulator')>, <IonQQPUBackend('ionq_qpu')>]\n"
     ]
    }
   ],
   "source": [
    "# create bankend for Qiskit's AER (QSAM simulator)\n",
    "from qiskit import Aer\n",
    "aer_sim = Aer.get_backend('qasm_simulator')\n",
    "import os\n",
    "import threading\n",
    "ionq_token=\"LAYq6EwdvXqh4sIma2iKZNQ2l7KzbxX6\"\n",
    "from qiskit_ionq import IonQProvider\n",
    "from qiskit import QuantumCircuit, execute\n",
    "from threading import Thread, Lock\n",
    "provider = IonQProvider(ionq_token)\n",
    "\n",
    "# show supported backends\n",
    "print(provider.backends()) \n",
    "\n",
    "# create backends for simulator and hardware\n",
    "backend_sim = provider.get_backend(\"ionq_simulator\")\n",
    "backend_qpu = provider.get_backend(\"ionq_qpu\")"
   ]
  },
  {
   "cell_type": "code",
   "execution_count": 3,
   "metadata": {},
   "outputs": [
    {
     "data": {
      "image/png": "[encoded data removed]",
      "text/plain": [
       "<Figure size 193.726x144.48 with 1 Axes>"
      ]
     },
     "execution_count": 3,
     "metadata": {},
     "output_type": "execute_result"
    }
   ],
   "source": [
    "from qiskit import QuantumCircuit\n",
    "\n",
    "qc = QuantumCircuit(1,1)\n",
    "qc.h(0)\n",
    "qc.measure(0,0)\n",
    "\n",
    "qc.draw(output='mpl')"
   ]
  },
  {
   "cell_type": "code",
   "execution_count": 4,
   "metadata": {},
   "outputs": [],
   "source": [
    "import os\n",
    "from array import *\n",
    "\n",
    "#generates n bytes, storing the memory in order to preserve the distribution of the numbers\n",
    "#Returns a binary array of bytes that can later be outputted to a file.\n",
    "def gen_n_bytes(filename, bytes):\n",
    "    job = execute(qc, backend = aer_sim, shots = 8*bytes, memory = True)\n",
    "    results = job.result()\n",
    "    memory = results.get_memory(qc)\n",
    "    \n",
    "    bin_array = array('B')\n",
    "    \n",
    "    for i in range(bytes):\n",
    "        bitstring = ''.join(map(str, memory[i:i+8])) \n",
    "        bin_array.append(int(bitstring,2))\n",
    "    \n",
    "    #Now adding the measurement results to a .txt file\n",
    "    bits = open(filename, \"wb\")\n",
    "    \n",
    "    bin_array.tofile(bits)"
   ]
  },
  {
   "cell_type": "code",
   "execution_count": 6,
   "metadata": {},
   "outputs": [],
   "source": [
    "#Testing generation time for 1000000 bytes nonthreaded\n",
    "import time\n",
    "\n",
    "start = time.time()\n",
    "gen_n_bytes(\"non_threaded.bin\", 1000000)\n",
    "t_no_thread = time.time() - start"
   ]
  },
  {
   "cell_type": "code",
   "execution_count": 6,
   "metadata": {},
   "outputs": [
    {
     "name": "stdout",
     "output_type": "stream",
     "text": [
      "Time to generate 1M bytes unthreaded: 113.44296526908875 seconds\n"
     ]
    }
   ],
   "source": [
    "print(f\"Time to generate 1M bytes unthreaded: {t_no_thread} seconds\")"
   ]
  },
  {
   "cell_type": "code",
   "execution_count": 7,
   "metadata": {},
   "outputs": [],
   "source": [
    "import os\n",
    "from array import *\n",
    "\n",
    "#generates n bytes, storing the memory in order to preserve the distribution of the numbers\n",
    "#Returns a binary array of bytes that can later be outputted to a file.\n",
    "def gen_n_bytes_ret(bytes):\n",
    "    job = execute(qc, backend = aer_sim, shots = 8*bytes, memory = True)\n",
    "    results = job.result()\n",
    "    memory = results.get_memory(qc)\n",
    "    \n",
    "    bin_array = array('B')\n",
    "    \n",
    "    for i in range(bytes):\n",
    "        bitstring = ''.join(map(str, memory[i:i+8])) \n",
    "        bin_array.append(int(bitstring,2))\n",
    "    \n",
    "    return bin_array"
   ]
  },
  {
   "cell_type": "code",
   "execution_count": 24,
   "metadata": {},
   "outputs": [
    {
     "name": "stdout",
     "output_type": "stream",
     "text": [
      "Time to generate 10M bytes unthreaded: 821.034469127655 seconds\n"
     ]
    }
   ],
   "source": [
    "#Testing generation time for 10M bytes nonthreaded\n",
    "import time\n",
    "\n",
    "start = time.time()\n",
    "bin_array = gen_n_bytes_ret(10000000)\n",
    "t_no_thread = time.time() - start\n",
    "\n",
    "print(f\"Time to generate 10M bytes unthreaded: {t_no_thread} seconds\")"
   ]
  },
  {
   "cell_type": "code",
   "execution_count": 25,
   "metadata": {},
   "outputs": [
    {
     "name": "stdout",
     "output_type": "stream",
     "text": [
      "Time to append 10M bytes to file unthreaded: 0.13131403923034668 seconds\n"
     ]
    }
   ],
   "source": [
    "start = time.time()\n",
    "\n",
    "bits = open(\"non_threaded.bin\", \"wb\")\n",
    "bin_array.tofile(bits)\n",
    "bits.close()\n",
    "\n",
    "t_IO = time.time() - start\n",
    "\n",
    "print(f\"Time to append 10M bytes to file unthreaded: {t_IO} seconds\")"
   ]
  },
  {
   "cell_type": "code",
   "execution_count": 27,
   "metadata": {},
   "outputs": [],
   "source": [
    "import os\n",
    "from array import *\n",
    "\n",
    "#Modified slightly with second paramater storing return value instead of returning\n",
    "#Used with threading\n",
    "def gen_n_bytes_threaded(bytes, bin_array):\n",
    "    job = execute(qc, backend = aer_sim, shots = 8*bytes, memory = True)\n",
    "    results = job.result()\n",
    "    memory = results.get_memory(qc)   \n",
    "    \n",
    "    for i in range(bytes):\n",
    "        bitstring = ''.join(map(str, memory[i:i+8])) \n",
    "        bin_array.append(int(bitstring,2))\n",
    "    "
   ]
  },
  {
   "cell_type": "code",
   "execution_count": 28,
   "metadata": {},
   "outputs": [
    {
     "name": "stdout",
     "output_type": "stream",
     "text": [
      "Time to generate 10M bytes using 10 threads at 1M bytes each: 840.4696788787842 seconds\n"
     ]
    }
   ],
   "source": [
    "#Now we add 10 threads splitting the task equally among them\n",
    "\n",
    "start = time.time()\n",
    "\n",
    "bin_array1 = array('B')\n",
    "bin_array2 = array('B')\n",
    "bin_array3 = array('B')\n",
    "bin_array4 = array('B')\n",
    "bin_array5 = array('B')\n",
    "bin_array6 = array('B')\n",
    "bin_array7 = array('B')\n",
    "bin_array8 = array('B')\n",
    "bin_array9 = array('B')\n",
    "bin_array10 = array('B')\n",
    "\n",
    "t1 = Thread(target = gen_n_bytes_threaded, args = [1000000, bin_array1])\n",
    "t2 = Thread(target = gen_n_bytes_threaded, args = [1000000, bin_array2])\n",
    "t3 = Thread(target = gen_n_bytes_threaded, args = [1000000, bin_array3])\n",
    "t4 = Thread(target = gen_n_bytes_threaded, args = [1000000, bin_array4])\n",
    "t5 = Thread(target = gen_n_bytes_threaded, args = [1000000, bin_array5])\n",
    "t6 = Thread(target = gen_n_bytes_threaded, args = [1000000, bin_array6])\n",
    "t7 = Thread(target = gen_n_bytes_threaded, args = [1000000, bin_array7])\n",
    "t8 = Thread(target = gen_n_bytes_threaded, args = [1000000, bin_array8])\n",
    "t9 = Thread(target = gen_n_bytes_threaded, args = [1000000, bin_array9])\n",
    "t10 = Thread(target = gen_n_bytes_threaded, args = [1000000, bin_array10])\n",
    "\n",
    "t1.start()\n",
    "t2.start()\n",
    "t3.start()\n",
    "t4.start()\n",
    "t5.start()\n",
    "t6.start()\n",
    "t7.start()\n",
    "t8.start()\n",
    "t9.start()\n",
    "t10.start()\n",
    "\n",
    "t1.join()\n",
    "t2.join()\n",
    "t3.join()\n",
    "t4.join()\n",
    "t5.join()\n",
    "t6.join()\n",
    "t7.join()\n",
    "t8.join()\n",
    "t9.join()\n",
    "t10.join()\n",
    "\n",
    "t_thread = time.time() - start\n",
    "\n",
    "print(f\"Time to generate 10M bytes using 10 threads at 1M bytes each: {t_thread} seconds\")"
   ]
  },
  {
   "cell_type": "code",
   "execution_count": 29,
   "metadata": {},
   "outputs": [
    {
     "name": "stdout",
     "output_type": "stream",
     "text": [
      "Time to append 10M bytes (threaded results) to file: 0.06351685523986816 seconds\n"
     ]
    }
   ],
   "source": [
    "start = time.time()\n",
    "\n",
    "bits = open(\"threaded.bin\", \"wb\")\n",
    "\n",
    "bin_array1.tofile(bits)\n",
    "bin_array2.tofile(bits)\n",
    "bin_array3.tofile(bits)\n",
    "bin_array4.tofile(bits)\n",
    "bin_array5.tofile(bits)\n",
    "bin_array6.tofile(bits)\n",
    "bin_array7.tofile(bits)\n",
    "bin_array8.tofile(bits)\n",
    "bin_array9.tofile(bits)\n",
    "bin_array10.tofile(bits)\n",
    "\n",
    "t_IO = time.time() - start\n",
    "\n",
    "print(f\"Time to append 10M bytes (threaded results) to file: {t_IO} seconds\")"
   ]
  },
  {
   "cell_type": "code",
   "execution_count": 38,
   "metadata": {},
   "outputs": [],
   "source": [
    "import os\n",
    "from random import *\n",
    "from array import *\n",
    "\n",
    "#Modified slightly with second paramater storing return value instead of returning\n",
    "#Used with threading\n",
    "#Also includes custom seeding to see whether statistics are improved\n",
    "#Threads may otherwise spawn with an identical random seed.\n",
    "def gen_n_bytes_threaded_seeded(bytes, bin_array):\n",
    "    job = execute(qc, backend = aer_sim, shots = 8*bytes, memory = True, seed_transpiler = random())\n",
    "    results = job.result()\n",
    "    memory = results.get_memory(qc)   \n",
    "    \n",
    "    for i in range(bytes):\n",
    "        bitstring = ''.join(map(str, memory[i:i+8])) \n",
    "        bin_array.append(int(bitstring,2))\n",
    "    "
   ]
  },
  {
   "cell_type": "code",
   "execution_count": 39,
   "metadata": {},
   "outputs": [
    {
     "name": "stdout",
     "output_type": "stream",
     "text": [
      "Time to generate 10M bytes using 10 threads at 1M bytes each: 450.79749870300293 seconds\n"
     ]
    }
   ],
   "source": [
    "#Now we add 10 threads splitting the task equally among them\n",
    "\n",
    "start = time.time()\n",
    "\n",
    "bin_array1 = array('B')\n",
    "bin_array2 = array('B')\n",
    "bin_array3 = array('B')\n",
    "bin_array4 = array('B')\n",
    "bin_array5 = array('B')\n",
    "bin_array6 = array('B')\n",
    "bin_array7 = array('B')\n",
    "bin_array8 = array('B')\n",
    "bin_array9 = array('B')\n",
    "bin_array10 = array('B')\n",
    "\n",
    "t1 = Thread(target = gen_n_bytes_threaded_seeded, args = [1000000, bin_array1])\n",
    "t2 = Thread(target = gen_n_bytes_threaded_seeded, args = [1000000, bin_array2])\n",
    "t3 = Thread(target = gen_n_bytes_threaded_seeded, args = [1000000, bin_array3])\n",
    "t4 = Thread(target = gen_n_bytes_threaded_seeded, args = [1000000, bin_array4])\n",
    "t5 = Thread(target = gen_n_bytes_threaded_seeded, args = [1000000, bin_array5])\n",
    "t6 = Thread(target = gen_n_bytes_threaded_seeded, args = [1000000, bin_array6])\n",
    "t7 = Thread(target = gen_n_bytes_threaded_seeded, args = [1000000, bin_array7])\n",
    "t8 = Thread(target = gen_n_bytes_threaded_seeded, args = [1000000, bin_array8])\n",
    "t9 = Thread(target = gen_n_bytes_threaded_seeded, args = [1000000, bin_array9])\n",
    "t10 = Thread(target = gen_n_bytes_threaded_seeded, args = [1000000, bin_array10])\n",
    "\n",
    "t1.start()\n",
    "t2.start()\n",
    "t3.start()\n",
    "t4.start()\n",
    "t5.start()\n",
    "t6.start()\n",
    "t7.start()\n",
    "t8.start()\n",
    "t9.start()\n",
    "t10.start()\n",
    "\n",
    "t1.join()\n",
    "t2.join()\n",
    "t3.join()\n",
    "t4.join()\n",
    "t5.join()\n",
    "t6.join()\n",
    "t7.join()\n",
    "t8.join()\n",
    "t9.join()\n",
    "t10.join()\n",
    "\n",
    "t_thread = time.time() - start\n",
    "\n",
    "print(f\"Time to generate 10M bytes using 10 threads at 1M bytes each: {t_thread} seconds\")"
   ]
  },
  {
   "cell_type": "code",
   "execution_count": 41,
   "metadata": {},
   "outputs": [
    {
     "name": "stdout",
     "output_type": "stream",
     "text": [
      "Time to append 10M bytes (threaded results) to file: 0.02236485481262207 seconds\n"
     ]
    }
   ],
   "source": [
    "start = time.time()\n",
    "\n",
    "bits = open(\"threaded_seeded.bin\", \"wb\")\n",
    "\n",
    "bin_array1.tofile(bits)\n",
    "bin_array2.tofile(bits)\n",
    "bin_array3.tofile(bits)\n",
    "bin_array4.tofile(bits)\n",
    "bin_array5.tofile(bits)\n",
    "bin_array6.tofile(bits)\n",
    "bin_array7.tofile(bits)\n",
    "bin_array8.tofile(bits)\n",
    "bin_array9.tofile(bits)\n",
    "bin_array10.tofile(bits)\n",
    "\n",
    "t_IO = time.time() - start\n",
    "\n",
    "print(f\"Time to append 10M bytes (threaded results) to file: {t_IO} seconds\")"
   ]
  },
  {
   "cell_type": "code",
   "execution_count": 61,
   "metadata": {},
   "outputs": [],
   "source": [
    "#Now let's utilize some crude error correction to see how the statistics are affected\n",
    "#One method to test is using bell states and throwing away illegal states (ex. |10>)\n",
    "#We define that method here\n",
    "\n",
    "qc = QuantumCircuit(2,2)\n",
    "qc.h(0)\n",
    "qc.h(1)\n",
    "qc.measure([0,1],[0,1])\n",
    "\n",
    "#Modified slightly with second paramater storing return value instead of returning\n",
    "#Used with threading\n",
    "#Also includes custom seeding to see whether statistics are improved\n",
    "#Threads may otherwise spawn with an identical random seed.\n",
    "def gen_n_bytes_bell(bytes, bin_array):\n",
    "    job = execute(qc, backend = aer_sim, shots = 8*bytes, memory = True, seed_transpiler = random())\n",
    "    results = job.result()\n",
    "    memory = results.get_memory(qc)   \n",
    "    #bits counter is modulo 8 - once it reaches 8 a single byte is pushed to the binary array.\n",
    "    bits = 0\n",
    "    bitstring = ''\n",
    "    \n",
    "    for i in range(8*bytes):\n",
    "        if(memory[i][0] == memory[i][1]):\n",
    "            bits += 1\n",
    "            bitstring += memory[i][0]\n",
    "        \n",
    "        if(bits == 8):\n",
    "            bin_array.append(int(bitstring,2))\n",
    "            bitstring = ''\n",
    "           "
   ]
  },
  {
   "cell_type": "code",
   "execution_count": 1,
   "metadata": {},
   "outputs": [
    {
     "ename": "NameError",
     "evalue": "name 'time' is not defined",
     "output_type": "error",
     "traceback": [
      "\u001b[0;31m---------------------------------------------------------------------------\u001b[0m",
      "\u001b[0;31mNameError\u001b[0m                                 Traceback (most recent call last)",
      "\u001b[0;32m<ipython-input-1-92507bf6ef92>\u001b[0m in \u001b[0;36m<module>\u001b[0;34m\u001b[0m\n\u001b[1;32m      1\u001b[0m \u001b[0;31m#Now we add 10 threads splitting the task equally among them\u001b[0m\u001b[0;34m\u001b[0m\u001b[0;34m\u001b[0m\u001b[0;34m\u001b[0m\u001b[0m\n\u001b[1;32m      2\u001b[0m \u001b[0;34m\u001b[0m\u001b[0m\n\u001b[0;32m----> 3\u001b[0;31m \u001b[0mstart\u001b[0m \u001b[0;34m=\u001b[0m \u001b[0mtime\u001b[0m\u001b[0;34m.\u001b[0m\u001b[0mtime\u001b[0m\u001b[0;34m(\u001b[0m\u001b[0;34m)\u001b[0m\u001b[0;34m\u001b[0m\u001b[0;34m\u001b[0m\u001b[0m\n\u001b[0m\u001b[1;32m      4\u001b[0m \u001b[0;34m\u001b[0m\u001b[0m\n\u001b[1;32m      5\u001b[0m \u001b[0mbin_array1\u001b[0m \u001b[0;34m=\u001b[0m \u001b[0marray\u001b[0m\u001b[0;34m(\u001b[0m\u001b[0;34m'B'\u001b[0m\u001b[0;34m)\u001b[0m\u001b[0;34m\u001b[0m\u001b[0;34m\u001b[0m\u001b[0m\n",
      "\u001b[0;31mNameError\u001b[0m: name 'time' is not defined"
     ]
    }
   ],
   "source": [
    "#Now we add 10 threads splitting the task equally among them\n",
    "\n",
    "start = time.time()\n",
    "\n",
    "bin_array1 = array('B')\n",
    "bin_array2 = array('B')\n",
    "bin_array3 = array('B')\n",
    "bin_array4 = array('B')\n",
    "bin_array5 = array('B')\n",
    "bin_array6 = array('B')\n",
    "bin_array7 = array('B')\n",
    "bin_array8 = array('B')\n",
    "bin_array9 = array('B')\n",
    "bin_array10 = array('B')\n",
    "\n",
    "t1 = Thread(target = gen_n_bytes_bell, args = [1000000, bin_array1])\n",
    "t2 = Thread(target = gen_n_bytes_bell, args = [1000000, bin_array2])\n",
    "t3 = Thread(target = gen_n_bytes_bell, args = [1000000, bin_array3])\n",
    "t4 = Thread(target = gen_n_bytes_bell, args = [1000000, bin_array4])\n",
    "t5 = Thread(target = gen_n_bytes_bell, args = [1000000, bin_array5])\n",
    "t6 = Thread(target = gen_n_bytes_bell, args = [1000000, bin_array6])\n",
    "t7 = Thread(target = gen_n_bytes_bell, args = [1000000, bin_array7])\n",
    "t8 = Thread(target = gen_n_bytes_bell, args = [1000000, bin_array8])\n",
    "t9 = Thread(target = gen_n_bytes_bell, args = [1000000, bin_array9])\n",
    "t10 = Thread(target = gen_n_bytes_bell, args = [1000000, bin_array10])\n",
    "\n",
    "t1.start()\n",
    "t2.start()\n",
    "t3.start()\n",
    "t4.start()\n",
    "t5.start()\n",
    "t6.start()\n",
    "t7.start()\n",
    "t8.start()\n",
    "t9.start()\n",
    "t10.start()\n",
    "\n",
    "t1.join()\n",
    "t2.join()\n",
    "t3.join()\n",
    "t4.join()\n",
    "t5.join()\n",
    "t6.join()\n",
    "t7.join()\n",
    "t8.join()\n",
    "t9.join()\n",
    "t10.join()\n",
    "\n",
    "t_thread = time.time() - start\n",
    "bytes_gen = len(bin_array1) + len(bin_array2) + len(bin_array3) + len(bin_array4) + len(bin_array5) + len(bin_array6) + len(bin_array7) + len(bin_array8) + len(bin_array9) + len(bin_array10)\n",
    "\n",
    "print(f\"Time to generate {bytes_gen} bytes using 10 threads at 1M bytes each: {t_thread} seconds\")"
   ]
  },
  {
   "cell_type": "code",
   "execution_count": null,
   "metadata": {},
   "outputs": [],
   "source": [
    "start = time.time()\n",
    "\n",
    "bits = open(\"threaded_seeded_corrected.bin\", \"wb\")\n",
    "\n",
    "bin_array1.tofile(bits)\n",
    "bin_array2.tofile(bits)\n",
    "bin_array3.tofile(bits)\n",
    "bin_array4.tofile(bits)\n",
    "bin_array5.tofile(bits)\n",
    "bin_array6.tofile(bits)\n",
    "bin_array7.tofile(bits)\n",
    "bin_array8.tofile(bits)\n",
    "bin_array9.tofile(bits)\n",
    "bin_array10.tofile(bits)\n",
    "\n",
    "t_IO = time.time() - start\n",
    "print(f\"Time to append {bytes_gen} bytes (threaded results) to file: {t_IO} seconds\")"
   ]
  },
  {
   "cell_type": "code",
   "execution_count": null,
   "metadata": {},
   "outputs": [],
   "source": []
  }
 ],
 "metadata": {
  "kernelspec": {
   "display_name": "Python 3 (ipykernel)",
   "language": "python",
   "name": "python3"
  },
  "language_info": {
   "codemirror_mode": {
    "name": "ipython",
    "version": 3
   },
   "file_extension": ".py",
   "mimetype": "text/x-python",
   "name": "python",
   "nbconvert_exporter": "python",
   "pygments_lexer": "ipython3",
   "version": "3.10.6"
  }
 },
 "nbformat": 4,
 "nbformat_minor": 4
}
