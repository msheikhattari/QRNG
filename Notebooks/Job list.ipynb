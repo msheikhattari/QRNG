{
 "cells": [
  {
   "cell_type": "code",
   "execution_count": 1,
   "metadata": {},
   "outputs": [
    {
     "name": "stdout",
     "output_type": "stream",
     "text": [
      "[<IonQSimulatorBackend('ionq_simulator')>, <IonQQPUBackend('ionq_qpu')>]\n"
     ]
    }
   ],
   "source": [
    "import os\n",
    "ionq_token=os.getenv('IONQ_API_TOKEN')\n",
    "from qiskit_ionq import IonQProvider\n",
    "from threading import Thread\n",
    "provider = IonQProvider(ionq_token)\n",
    "\n",
    "# show supported backends\n",
    "print(provider.backends()) \n",
    "\n",
    "# create backends for simulator and hardware\n",
    "backend_simq = provider.get_backend(\"ionq_simulator\")\n",
    "backend_qpu = provider.get_backend(\"ionq_qpu\")"
   ]
  },
  {
   "cell_type": "code",
   "execution_count": 2,
   "metadata": {},
   "outputs": [],
   "source": [
    "from qiskit_ionq import GPIGate, GPI2Gate, MSGate\n",
    "backend_simq2 = provider.get_backend(\"ionq_simulator\", gateset=\"native\")\n",
    "backend_qpu2 = provider.get_backend(\"ionq_qpu\", gateset=\"native\")\n",
    "\n",
    "backend_simq = provider.get_backend(\"ionq_simulator\")\n",
    "backend_qpu = provider.get_backend(\"ionq_qpu\")"
   ]
  },
  {
   "cell_type": "code",
   "execution_count": 3,
   "metadata": {},
   "outputs": [],
   "source": [
    "#Native quantum circuit using GPI, GPI2 gates to generate 1 byte\n",
    "\n",
    "from qiskit import QuantumCircuit\n",
    "\n",
    "nbyte = QuantumCircuit(8)\n",
    "\n",
    "for i in range(8):\n",
    "    nbyte.append(GPI2Gate(0.25), [i])\n",
    "    nbyte.append(GPIGate(0.5), [i])    "
   ]
  },
  {
   "cell_type": "code",
   "execution_count": 4,
   "metadata": {},
   "outputs": [],
   "source": [
    "#Standard gate-set used to generate 1 byte using the non native gateset\n",
    "\n",
    "non_nbyte = QuantumCircuit(8,8)\n",
    "for i in range(8):\n",
    "    non_nbyte.h(i)"
   ]
  },
  {
   "cell_type": "code",
   "execution_count": 5,
   "metadata": {},
   "outputs": [],
   "source": [
    "#generates a byte, using 8 hadamards and single shot jobs (non-native gateset)\n",
    "def gen_byte():\n",
    "    qpu_job = backend_qpu.run(non_nbyte, shots = 1)\n",
    "    counts = qpu_job.get_counts()\n",
    "    byte = list(counts.keys())[0]\n",
    "    return byte"
   ]
  },
  {
   "cell_type": "code",
   "execution_count": 6,
   "metadata": {},
   "outputs": [],
   "source": [
    "from array import *\n",
    "\n",
    "def gen_n_bytes(bytes, bin_array, file):\n",
    "    bits = open(file, \"ab\")\n",
    "\n",
    "    for i in range(bytes):\n",
    "        byte = gen_byte()\n",
    "        bin_array.append(int(byte,2))\n",
    "\n",
    "    bin_array.tofile(bits)"
   ]
  },
  {
   "cell_type": "code",
   "execution_count": 7,
   "metadata": {},
   "outputs": [],
   "source": [
    "#same method but now using the native gate set\n",
    "def gen_nbyte():\n",
    "    qpu_job = backend_qpu2.run(nbyte, shots = 1)\n",
    "    counts = qpu_job.get_counts()\n",
    "    byte = list(counts.keys())[0]\n",
    "    return byte"
   ]
  },
  {
   "cell_type": "code",
   "execution_count": 8,
   "metadata": {},
   "outputs": [],
   "source": [
    "#same method but now using the native gate set\n",
    "from array import *\n",
    "import os\n",
    "\n",
    "def gen_n_nbytes(bytes, bin_array, file):\n",
    "    bits = open(file, \"ab\")\n",
    "\n",
    "    for i in range(bytes):\n",
    "        byte = gen_nbyte()\n",
    "        bin_array.append(int(byte,2))\n",
    "\n",
    "    bin_array.tofile(bits)"
   ]
  },
  {
   "cell_type": "code",
   "execution_count": 10,
   "metadata": {},
   "outputs": [
    {
     "name": "stdout",
     "output_type": "stream",
     "text": [
      "Number of bytes to generate: \n",
      "8\n",
      "0\n"
     ]
    }
   ],
   "source": [
    "import time\n",
    "\n",
    "start = time.time()\n",
    "\n",
    "#User will be prompted select how many bytes to generate.\n",
    "print(\"Number of bytes to generate: \")\n",
    "bytes = int(input())\n",
    "\n",
    "my_job = [None] * bytes\n",
    "#Creating a job list in order to reduce queue time\n",
    "#Here we are queueing bytes single-shot jobs that each generate a byte\n",
    "\n",
    "for i in range(bytes):\n",
    "    my_job[i] = backend_qpu.run(non_nbyte, shots = 1)\n",
    "    if(i % 100 == 0):\n",
    "        time.sleep(100)\n",
    "        print(i)"
   ]
  },
  {
   "cell_type": "code",
   "execution_count": 11,
   "metadata": {},
   "outputs": [],
   "source": [
    "from qiskit.providers.jobstatus import JobStatus\n",
    "\n",
    "my_results = []\n",
    "for i in range(bytes):\n",
    "    if my_job[i].status() is not JobStatus.DONE:\n",
    "        time.sleep(100)\n",
    "    else:\n",
    "        my_results.append(list(my_job[i].get_counts().keys())[0])"
   ]
  },
  {
   "cell_type": "code",
   "execution_count": 12,
   "metadata": {},
   "outputs": [],
   "source": [
    "time = time.time() - start"
   ]
  },
  {
   "cell_type": "code",
   "execution_count": 13,
   "metadata": {},
   "outputs": [
    {
     "name": "stdout",
     "output_type": "stream",
     "text": [
      "10000 bytes generated in 931.6393399238586 seconds.\n",
      "Generation rate (bps): 85.87013941096376\n"
     ]
    }
   ],
   "source": [
    "print(f\"10000 bytes generated in {time} seconds.\")\n",
    "print(\"Generation rate (bps):\", 10000*8/time)"
   ]
  },
  {
   "cell_type": "code",
   "execution_count": 18,
   "metadata": {},
   "outputs": [
    {
     "name": "stdout",
     "output_type": "stream",
     "text": [
      "{'00000000': 1}\n"
     ]
    }
   ],
   "source": [
    "print(my_job[0].get_counts())"
   ]
  },
  {
   "cell_type": "code",
   "execution_count": null,
   "metadata": {},
   "outputs": [],
   "source": [
    "print(my_job[99].get_counts())"
   ]
  },
  {
   "cell_type": "code",
   "execution_count": null,
   "metadata": {},
   "outputs": [],
   "source": [
    "import time\n",
    "\n",
    "print(\"Total time elapsed:\", time.time() - start)"
   ]
  },
  {
   "cell_type": "code",
   "execution_count": null,
   "metadata": {},
   "outputs": [],
   "source": []
  }
 ],
 "metadata": {
  "kernelspec": {
   "display_name": "Python 3 (ipykernel)",
   "language": "python",
   "name": "python3"
  },
  "language_info": {
   "codemirror_mode": {
    "name": "ipython",
    "version": 3
   },
   "file_extension": ".py",
   "mimetype": "text/x-python",
   "name": "python",
   "nbconvert_exporter": "python",
   "pygments_lexer": "ipython3",
   "version": "3.10.6"
  },
  "varInspector": {
   "cols": {
    "lenName": 16,
    "lenType": 16,
    "lenVar": 40
   },
   "kernels_config": {
    "python": {
     "delete_cmd_postfix": "",
     "delete_cmd_prefix": "del ",
     "library": "var_list.py",
     "varRefreshCmd": "print(var_dic_list())"
    },
    "r": {
     "delete_cmd_postfix": ") ",
     "delete_cmd_prefix": "rm(",
     "library": "var_list.r",
     "varRefreshCmd": "cat(var_dic_list()) "
    }
   },
   "types_to_exclude": [
    "module",
    "function",
    "builtin_function_or_method",
    "instance",
    "_Feature"
   ],
   "window_display": false
  }
 },
 "nbformat": 4,
 "nbformat_minor": 4
}
