{
 "cells": [
  {
   "cell_type": "markdown",
   "id": "2d09081d",
   "metadata": {
    "id": "51445d37"
   },
   "source": [
    "## Getting started with Qiskit\n",
    "\n",
    "Qiskit is a widely employed quantum computing framework, which includes a large software library and extensive documentation, in particular the <a href=\"https://qiskit.org/textbook\">Qiskit tutorial</a>. By default, Qiskit connects to its own simulator module ('AER') or the IBM QEngine backend, for other backends (e.g. IonQ) additional modules must be installed. \n",
    "\n",
    "Gates are implemented as methods, e.g. R<sub>x</sub>(&theta;) |<i>state</i>&gt; &nbsp; is implemented as: &nbsp; QuantumCircuit.Rx(theta,qubit) <br>\n",
    "\n",
    "Use: pip install 'qiskit[visualization]' &nbsp; (or: pip3 install ... on most Linux and MacOS platforms)<br>\n",
    "pip install qiskit-ionq <br>\n",
    "\n",
    "API tokens can be set as environment variables or argument when instantiating a 'Provider' class: "
   ]
  },
  {
   "cell_type": "code",
   "execution_count": null,
   "id": "ae3e8f8c",
   "metadata": {
    "id": "a3c7d266",
    "outputId": "8d77267f-e1ec-4748-e465-73dcffd022ec"
   },
   "outputs": [],
   "source": [
    "#on command line: export QISKIT_IONQ_API_TOKEN=“token”\n",
    "#on python shell: from qiskit_ionq import IonQProvider\n",
    "#on python shell: provider = IonQProvider()\n",
    "#or\n",
    "import os\n",
    "ionq_token=os.getenv('IONQ_API_TOKEN')\n",
    "from qiskit_ionq import IonQProvider\n",
    "provider = IonQProvider(ionq_token)\n",
    "\n",
    "# show supported backends\n",
    "print(provider.backends()) \n",
    "\n",
    "# create backends for simulator and hardware\n",
    "backend_sim = provider.get_backend(\"ionq_simulator\")\n",
    "backend_qpu = provider.get_backend(\"ionq_qpu\")"
   ]
  },
  {
   "cell_type": "code",
   "execution_count": null,
   "id": "fab29337",
   "metadata": {
    "id": "040622c2"
   },
   "outputs": [],
   "source": [
    "#If you have a IBMQ Experience account:\n",
    "from qiskit import IBMQ\n",
    "from qiskit.providers.ibmq import least_busy\n",
    "\n",
    "provider0 = IBMQ.load_account()\n",
    "# We choose the least busy device\n",
    "backend_ibmq = least_busy(provider0.backends(operational = True, simulator=False, status_msg='active',\n",
    "                                       filters=lambda x: x.configuration().n_qubits >= n+1)) \n",
    "print(\"We are using...\",backend_ibmq)\n",
    "print(\"It has\",backend_ibmq.status().pending_jobs,\"pending jobs\")"
   ]
  },
  {
   "cell_type": "code",
   "execution_count": null,
   "id": "0c11ff79",
   "metadata": {
    "executionInfo": {
     "elapsed": 293,
     "status": "ok",
     "timestamp": 1655675489985,
     "user": {
      "displayName": "Daniel Quinter",
      "userId": "18184257501416610474"
     },
     "user_tz": 240
    },
    "id": "c2663255"
   },
   "outputs": [],
   "source": [
    "# create bankend for Qiskit's AER (QSAM simulator)\n",
    "from qiskit import Aer\n",
    "aer_sim = Aer.get_backend('qasm_simulator') "
   ]
  },
  {
   "cell_type": "markdown",
   "id": "f4123d02",
   "metadata": {
    "id": "cfcf69e3"
   },
   "source": [
    "Circuits are set up by means of the QuantumCircuit class.\n",
    "\n",
    "### Example: Bell State circuit:\n",
    "\n",
    "A Bell State is a pair of quantum objects, which are aligned (e.g. spins or qubits):\n",
    "$$ |A\\rangle \\otimes |B\\rangle = \\frac{1}{\\sqrt{2}} (|0\\rangle \\otimes |0\\rangle + |1\\rangle \\otimes |1\\rangle )$$\n",
    "(The symbol $\\otimes$ denotes an outer product, which combines the spaces, in which the objects operate, into a higher dimensional space. We often use the short form: $|A\\rangle \\otimes |B\\rangle = |AB\\rangle$).\n",
    "\n",
    "Here, both qubits are either in $!|0\\rangle$ or $|1\\rangle$ state, in other words: the system is either in a $|00\\rangle$ or $|11\\rangle$ state, mixed states ($|01\\rangle>$ or $|10\\rangle$) do not occur.\n",
    "A Bell State is obviously an example for entanglement: both qubits act coherently.\n",
    "\n",
    "![bell_state.png](attachment:bell_state.png)"
   ]
  },
  {
   "cell_type": "markdown",
   "id": "bf47efce",
   "metadata": {
    "id": "c99fa4bd"
   },
   "source": [
    "This is realized by initializing one qubit to 50\\% probability in $|0\\rangle$ and 50\\% in $|1\\rangle$ state, and then changing the state of the second qubit (initially in $|0\\rangle$ state) if the first qubit is in $|1\\rangle$.\n",
    "The first operation is done by a Hadamard gate, the second by a CNOT gate, which flips the state ('NOT') of the target qubit under the condition ('C') that the control qubit is in $|1\\rangle$ state.\n",
    "\n",
    "Note: in Qiskit the circuit contains 2 qubits and 2 classical bits, which contain the measured results. Measurements on quantum objects represent their projections on the base or eigen-states of the measured quantity."
   ]
  },
  {
   "cell_type": "code",
   "execution_count": null,
   "id": "827900a0",
   "metadata": {
    "id": "10c07211"
   },
   "outputs": [],
   "source": [
    "from qiskit import QuantumCircuit\n",
    "\n",
    "qc = QuantumCircuit(2,2)   # arguments: qubits,classical_bits\n",
    "qc.h(0)  # hadamard on qubit 0\n",
    "qc.cx(0,1) # CNOT (also called CX): control is qubit 0, target is qubit 1\n",
    "qc.measure([0,1],[0,1]) # arguments: list of qubits to measure, list of bits that contain the results\n",
    "\n",
    "# display the circuit\n",
    "qc.draw(output='mpl')"
   ]
  },
  {
   "cell_type": "markdown",
   "id": "8dcf845e",
   "metadata": {
    "id": "d8902733"
   },
   "source": [
    "Now this circuit can submitted to various backends, e.g. AER simulator, IonQ simulator, and IonQ hardware "
   ]
  },
  {
   "cell_type": "code",
   "execution_count": null,
   "id": "921dfc14",
   "metadata": {
    "id": "525a350e"
   },
   "outputs": [],
   "source": [
    "# run circuit on AER simulator and print results (counts) and their probabilities\n",
    "job = aer_sim.run(qc, shots=1000).result()  # 2nd argument optional: shots=1024 by default\n",
    "print(\"AER Simulator: measured counts\",job.get_counts())\n",
    "print(\"AER Simulator: measured probabilities\", {k:v/1000. for k,v in job.get_counts().items()})"
   ]
  },
  {
   "cell_type": "code",
   "execution_count": null,
   "id": "cfbe04f5",
   "metadata": {
    "id": "bf7db385"
   },
   "outputs": [],
   "source": [
    "# run circuit on IonQ simulator\n",
    "job = backend_sim.run(qc, shots=1000)\n",
    "print(\"IonQ simulator: measured counts\",job.get_counts())\n",
    "print(\"IonQ simulator: measured probabilities\",job.get_probabilities())"
   ]
  },
  {
   "cell_type": "code",
   "execution_count": 7,
   "id": "35fa3626",
   "metadata": {
    "id": "1a1afff3"
   },
   "outputs": [
    {
     "ename": "IonQCredentialsError",
     "evalue": "IonQCredentialsError('Credentials `token` may not be None!')",
     "output_type": "error",
     "traceback": [
      "\u001b[0;31m---------------------------------------------------------------------------\u001b[0m",
      "\u001b[0;31mIonQCredentialsError\u001b[0m                      Traceback (most recent call last)",
      "\u001b[0;32m<ipython-input-7-e6658ad4bb5d>\u001b[0m in \u001b[0;36m<module>\u001b[0;34m\u001b[0m\n\u001b[1;32m      1\u001b[0m \u001b[0;31m#run on IonQ hardware:\u001b[0m\u001b[0;34m\u001b[0m\u001b[0;34m\u001b[0m\u001b[0;34m\u001b[0m\u001b[0m\n\u001b[0;32m----> 2\u001b[0;31m \u001b[0mqpu_job\u001b[0m \u001b[0;34m=\u001b[0m \u001b[0mbackend_qpu\u001b[0m\u001b[0;34m.\u001b[0m\u001b[0mrun\u001b[0m\u001b[0;34m(\u001b[0m\u001b[0mqc\u001b[0m\u001b[0;34m)\u001b[0m  \u001b[0;31m#if you skip 2nd arg, it defaults to 1024\u001b[0m\u001b[0;34m\u001b[0m\u001b[0;34m\u001b[0m\u001b[0m\n\u001b[0m\u001b[1;32m      3\u001b[0m \u001b[0;34m\u001b[0m\u001b[0m\n\u001b[1;32m      4\u001b[0m \u001b[0;31m# since the job is queued and may take several minutes to get processed,\u001b[0m\u001b[0;34m\u001b[0m\u001b[0;34m\u001b[0m\u001b[0;34m\u001b[0m\u001b[0m\n\u001b[1;32m      5\u001b[0m \u001b[0;31m# we check its status every minute until the job is done\u001b[0m\u001b[0;34m\u001b[0m\u001b[0;34m\u001b[0m\u001b[0;34m\u001b[0m\u001b[0m\n",
      "\u001b[0;32m~/opt/anaconda3/lib/python3.7/site-packages/qiskit_ionq/ionq_backend.py\u001b[0m in \u001b[0;36mrun\u001b[0;34m(self, circuit, **kwargs)\u001b[0m\n\u001b[1;32m    215\u001b[0m             \u001b[0mself\u001b[0m\u001b[0;34m,\u001b[0m\u001b[0;34m\u001b[0m\u001b[0;34m\u001b[0m\u001b[0m\n\u001b[1;32m    216\u001b[0m             \u001b[0;32mNone\u001b[0m\u001b[0;34m,\u001b[0m\u001b[0;34m\u001b[0m\u001b[0;34m\u001b[0m\u001b[0m\n\u001b[0;32m--> 217\u001b[0;31m             \u001b[0mself\u001b[0m\u001b[0;34m.\u001b[0m\u001b[0mclient\u001b[0m\u001b[0;34m,\u001b[0m\u001b[0;34m\u001b[0m\u001b[0;34m\u001b[0m\u001b[0m\n\u001b[0m\u001b[1;32m    218\u001b[0m             \u001b[0mcircuit\u001b[0m\u001b[0;34m=\u001b[0m\u001b[0mcircuit\u001b[0m\u001b[0;34m,\u001b[0m\u001b[0;34m\u001b[0m\u001b[0;34m\u001b[0m\u001b[0m\n\u001b[1;32m    219\u001b[0m             \u001b[0mpassed_args\u001b[0m\u001b[0;34m=\u001b[0m\u001b[0mpassed_args\u001b[0m\u001b[0;34m,\u001b[0m\u001b[0;34m\u001b[0m\u001b[0;34m\u001b[0m\u001b[0m\n",
      "\u001b[0;32m~/opt/anaconda3/lib/python3.7/site-packages/qiskit_ionq/ionq_backend.py\u001b[0m in \u001b[0;36mclient\u001b[0;34m(self)\u001b[0m\n\u001b[1;32m    136\u001b[0m         \"\"\"\n\u001b[1;32m    137\u001b[0m         \u001b[0;32mif\u001b[0m \u001b[0mself\u001b[0m\u001b[0;34m.\u001b[0m\u001b[0m_client\u001b[0m \u001b[0;32mis\u001b[0m \u001b[0;32mNone\u001b[0m\u001b[0;34m:\u001b[0m\u001b[0;34m\u001b[0m\u001b[0;34m\u001b[0m\u001b[0m\n\u001b[0;32m--> 138\u001b[0;31m             \u001b[0mself\u001b[0m\u001b[0;34m.\u001b[0m\u001b[0m_client\u001b[0m \u001b[0;34m=\u001b[0m \u001b[0mself\u001b[0m\u001b[0;34m.\u001b[0m\u001b[0mcreate_client\u001b[0m\u001b[0;34m(\u001b[0m\u001b[0;34m)\u001b[0m\u001b[0;34m\u001b[0m\u001b[0;34m\u001b[0m\u001b[0m\n\u001b[0m\u001b[1;32m    139\u001b[0m         \u001b[0;32mreturn\u001b[0m \u001b[0mself\u001b[0m\u001b[0;34m.\u001b[0m\u001b[0m_client\u001b[0m\u001b[0;34m\u001b[0m\u001b[0;34m\u001b[0m\u001b[0m\n\u001b[1;32m    140\u001b[0m \u001b[0;34m\u001b[0m\u001b[0m\n",
      "\u001b[0;32m~/opt/anaconda3/lib/python3.7/site-packages/qiskit_ionq/ionq_backend.py\u001b[0m in \u001b[0;36mcreate_client\u001b[0;34m(self)\u001b[0m\n\u001b[1;32m    161\u001b[0m         \u001b[0;32mif\u001b[0m \u001b[0mtoken\u001b[0m \u001b[0;32mis\u001b[0m \u001b[0;32mNone\u001b[0m\u001b[0;34m:\u001b[0m\u001b[0;34m\u001b[0m\u001b[0;34m\u001b[0m\u001b[0m\n\u001b[1;32m    162\u001b[0m             raise exceptions.IonQCredentialsError(\n\u001b[0;32m--> 163\u001b[0;31m                 \u001b[0;34m\"Credentials `token` may not be None!\"\u001b[0m\u001b[0;34m\u001b[0m\u001b[0;34m\u001b[0m\u001b[0m\n\u001b[0m\u001b[1;32m    164\u001b[0m             )\n\u001b[1;32m    165\u001b[0m \u001b[0;34m\u001b[0m\u001b[0m\n",
      "\u001b[0;31mIonQCredentialsError\u001b[0m: IonQCredentialsError('Credentials `token` may not be None!')"
     ]
    }
   ],
   "source": [
    "#run on IonQ hardware:  \n",
    "qpu_job = backend_qpu.run(qc)  #if you skip 2nd arg, it defaults to 1024\n",
    "\n",
    "# since the job is queued and may take several minutes to get processed, \n",
    "# we check its status every minute until the job is done\n",
    "from qiskit.providers.jobstatus import JobStatus\n",
    "import time\n",
    "while qpu_job.status() is not JobStatus.DONE:\n",
    "   print(\"Job status is\", qpu_job.status())\n",
    "   time.sleep(60)\n",
    "# break out of the loop when the job finished:\n",
    "print(\"Job status is\",qpu_job.status())\n",
    "\n",
    "\n",
    "print(\"IonQ hardware: measured counts\",counts)\n",
    "print(\"IonQ hardware: measured probabilities\",qpu_job.get_probabilities())"
   ]
  },
  {
   "cell_type": "code",
   "execution_count": null,
   "id": "ed778a09",
   "metadata": {
    "id": "a177471c"
   },
   "outputs": [],
   "source": [
    "# plot the results\n",
    "all_states = ['00','01','10','11']\n",
    "if len(counts) < 4:\n",
    "    for j in all_states:\n",
    "        if j not in counts.keys():\n",
    "            counts[j]=0\n",
    "reordered = {k:counts[k] for k in all_states}\n",
    "\n",
    "from qiskit.visualization import plot_histogram\n",
    "plot_histogram(reordered)"
   ]
  },
  {
   "cell_type": "markdown",
   "id": "452c385a",
   "metadata": {
    "id": "0a57f64f"
   },
   "source": [
    "### Example: Teleportation\n",
    "\n",
    "The term 'teleportation' refers to transferring a quantum state |&psi;&gt; without moving the quantum object itself. This is accomplished by entangling a shared Bell-state qubit pair with the qubit to be transferred.\n",
    "\n",
    "Suppose Alice and Bob share a Bell-state pair <i>qA-qB</i>, and Alice wants to send Bob the quantum state of a payload qubit <i>qP</i>: she entangles <i>qP</i> with her part, <i>qA</i>, of the Bell pair, then measures both qubits and sends Bob the result of the measurement (2 conventional bits) over the internet. Bob uses these 2 conventional bits to manipulate his part, <i>qB</i>, of the Bell pair such that it contains the quantum state of the payload qubit <i>qP</i>."
   ]
  },
  {
   "cell_type": "code",
   "execution_count": 1,
   "id": "463b3ae8",
   "metadata": {
    "colab": {
     "base_uri": "https://localhost:8080/",
     "height": 322
    },
    "executionInfo": {
     "elapsed": 1007,
     "status": "ok",
     "timestamp": 1655675312683,
     "user": {
      "displayName": "Daniel Quinter",
      "userId": "18184257501416610474"
     },
     "user_tz": 240
    },
    "id": "bdb2429e",
    "outputId": "7176b6fb-6c4e-41b1-ff96-e38469941dfa"
   },
   "outputs": [
    {
     "data": {
      "image/png": "[encoded data removed]",
      "text/plain": [
       "<Figure size 212.903x385.28 with 1 Axes>"
      ]
     },
     "execution_count": 1,
     "metadata": {},
     "output_type": "execute_result"
    }
   ],
   "source": [
    "from qiskit import QuantumCircuit, QuantumRegister, ClassicalRegister\n",
    "\n",
    "qP,qA,qB = QuantumRegister(1, name=\"qP\"), QuantumRegister(1, name=\"qA\"), QuantumRegister(1, name=\"qB\")\n",
    "xbit,zbit,res = ClassicalRegister(1, name=\"x\"), ClassicalRegister(1, name=\"z\"), ClassicalRegister(1,name=\"res\")\n",
    "qcteleport = QuantumCircuit(qP,qA,qB,zbit,xbit,res)\n",
    "\n",
    "# create Bell pair\n",
    "qcteleport.h(qA)\n",
    "qcteleport.cx(qA,qB)\n",
    "qcteleport.draw(output=\"mpl\")"
   ]
  },
  {
   "cell_type": "code",
   "execution_count": 2,
   "id": "0c6fc97a",
   "metadata": {
    "colab": {
     "base_uri": "https://localhost:8080/",
     "height": 322
    },
    "executionInfo": {
     "elapsed": 585,
     "status": "ok",
     "timestamp": 1655675325742,
     "user": {
      "displayName": "Daniel Quinter",
      "userId": "18184257501416610474"
     },
     "user_tz": 240
    },
    "id": "dfc7950b",
    "outputId": "74f68457-1daf-4831-ab13-5af2d8802027"
   },
   "outputs": [
    {
     "data": {
      "image/png": "[encoded data removed]",
      "text/plain": [
       "<Figure size 574.103x385.28 with 1 Axes>"
      ]
     },
     "execution_count": 2,
     "metadata": {},
     "output_type": "execute_result"
    }
   ],
   "source": [
    "from math import sqrt,pi\n",
    "from qiskit.quantum_info import random_statevector\n",
    "from qiskit.extensions import Initialize\n",
    "from qiskit.visualization import array_to_latex, plot_bloch_multivector\n",
    "\n",
    "# prepare payload qubit\n",
    "qcteleport.initialize([1/sqrt(2),1/sqrt(2)],0)\n",
    "\n",
    "# entangle Alice's Bell state with payload qubit\n",
    "qcteleport.cx(qP,qA)\n",
    "qcteleport.h(qP)\n",
    "\n",
    "# measure qP and qA\n",
    "qcteleport.barrier()\n",
    "qcteleport.measure(qP,zbit)\n",
    "qcteleport.measure(qA,xbit)\n",
    "qcteleport.draw(output='mpl')"
   ]
  },
  {
   "cell_type": "code",
   "execution_count": 3,
   "id": "426eb215",
   "metadata": {
    "colab": {
     "base_uri": "https://localhost:8080/",
     "height": 322
    },
    "executionInfo": {
     "elapsed": 596,
     "status": "ok",
     "timestamp": 1655675457832,
     "user": {
      "displayName": "Daniel Quinter",
      "userId": "18184257501416610474"
     },
     "user_tz": 240
    },
    "id": "079aea62",
    "outputId": "91a5ac9b-13f3-45b8-ec30-d73fbd24116f"
   },
   "outputs": [
    {
     "data": {
      "image/png": "[encoded data removed]",
      "text/plain": [
       "<Figure size 754.703x385.28 with 1 Axes>"
      ]
     },
     "execution_count": 3,
     "metadata": {},
     "output_type": "execute_result"
    }
   ],
   "source": [
    "# Bob applies X gate if x=1 and Z gate if z=1\n",
    "qcteleport.barrier()\n",
    "qcteleport.x(qB).c_if(xbit,1)\n",
    "qcteleport.z(qB).c_if(zbit,1)\n",
    "qcteleport.draw(output='mpl')"
   ]
  },
  {
   "cell_type": "code",
   "execution_count": 6,
   "id": "1d528a92",
   "metadata": {
    "colab": {
     "base_uri": "https://localhost:8080/",
     "height": 205
    },
    "executionInfo": {
     "elapsed": 298,
     "status": "error",
     "timestamp": 1655675493384,
     "user": {
      "displayName": "Daniel Quinter",
      "userId": "18184257501416610474"
     },
     "user_tz": 240
    },
    "id": "9234d20f",
    "outputId": "f037ac04-aa5e-479b-9990-9ec9587f8ab6",
    "scrolled": true
   },
   "outputs": [
    {
     "ename": "NameError",
     "evalue": "ignored",
     "output_type": "error",
     "traceback": [
      "\u001b[0;31m---------------------------------------------------------------------------\u001b[0m",
      "\u001b[0;31mNameError\u001b[0m                                 Traceback (most recent call last)",
      "\u001b[0;32m<ipython-input-6-b83bcddf5068>\u001b[0m in \u001b[0;36m<module>\u001b[0;34m()\u001b[0m\n\u001b[1;32m      5\u001b[0m \u001b[0;34m\u001b[0m\u001b[0m\n\u001b[1;32m      6\u001b[0m \u001b[0mjob\u001b[0m \u001b[0;34m=\u001b[0m \u001b[0maer_sim\u001b[0m\u001b[0;34m.\u001b[0m\u001b[0mrun\u001b[0m\u001b[0;34m(\u001b[0m\u001b[0mqcteleport\u001b[0m\u001b[0;34m,\u001b[0m \u001b[0mshots\u001b[0m\u001b[0;34m=\u001b[0m\u001b[0;36m100\u001b[0m\u001b[0;34m)\u001b[0m\u001b[0;34m.\u001b[0m\u001b[0mresult\u001b[0m\u001b[0;34m(\u001b[0m\u001b[0;34m)\u001b[0m\u001b[0;34m\u001b[0m\u001b[0;34m\u001b[0m\u001b[0m\n\u001b[0;32m----> 7\u001b[0;31m \u001b[0mdisplay\u001b[0m\u001b[0;34m(\u001b[0m\u001b[0;34m'rotated by {} yields {}'\u001b[0m\u001b[0;34m.\u001b[0m\u001b[0mformat\u001b[0m\u001b[0;34m(\u001b[0m\u001b[0mangle\u001b[0m\u001b[0;34m,\u001b[0m\u001b[0mjob\u001b[0m\u001b[0;34m.\u001b[0m\u001b[0mget_counts\u001b[0m\u001b[0;34m(\u001b[0m\u001b[0;34m)\u001b[0m\u001b[0;34m)\u001b[0m\u001b[0;34m)\u001b[0m\u001b[0;34m\u001b[0m\u001b[0;34m\u001b[0m\u001b[0m\n\u001b[0m",
      "\u001b[0;31mNameError\u001b[0m: name 'angle' is not defined"
     ]
    }
   ],
   "source": [
    "qcteleport.barrier()\n",
    "#uncompute payload preparation\n",
    "qcteleport.h(qB)\n",
    "qcteleport.measure(qB,res)\n",
    "\n",
    "job = aer_sim.run(qcteleport, shots=100).result()\n",
    "display('rotated by {} yields {}'.format(angle,job.get_counts()))"
   ]
  },
  {
   "cell_type": "code",
   "execution_count": null,
   "id": "c0d4f563",
   "metadata": {
    "id": "c3027943"
   },
   "outputs": [],
   "source": []
  }
 ],
 "metadata": {
  "colab": {
   "name": "qiskit-intro.ipynb",
   "provenance": []
  },
  "kernelspec": {
   "display_name": "Python 3 (ipykernel)",
   "language": "python",
   "name": "python3"
  },
  "language_info": {
   "codemirror_mode": {
    "name": "ipython",
    "version": 3
   },
   "file_extension": ".py",
   "mimetype": "text/x-python",
   "name": "python",
   "nbconvert_exporter": "python",
   "pygments_lexer": "ipython3",
   "version": "3.10.6"
  }
 },
 "nbformat": 4,
 "nbformat_minor": 5
}
